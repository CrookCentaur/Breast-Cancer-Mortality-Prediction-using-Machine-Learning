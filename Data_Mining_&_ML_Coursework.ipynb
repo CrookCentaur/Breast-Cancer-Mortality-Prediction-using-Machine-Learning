{
 "cells": [
  {
   "cell_type": "markdown",
   "id": "ea1e7a5d-30e2-4688-bb59-86559040678f",
   "metadata": {},
   "source": [
    "# Data Mining and Machine Learning Coursework"
   ]
  },
  {
   "cell_type": "markdown",
   "id": "9a2cc9cb-a836-42ce-a81e-15f5e938fe33",
   "metadata": {},
   "source": [
    "# Part (A): Breast Cancer Mortality Prediction"
   ]
  },
  {
   "cell_type": "markdown",
   "id": "e5a10c70-15ac-44be-a17e-1403ae246c0a",
   "metadata": {},
   "source": [
    "## Task (1) - Domain Understanding: Classification"
   ]
  },
  {
   "cell_type": "markdown",
   "id": "b65ec946-40de-4aa6-b49b-510959f4e5f2",
   "metadata": {},
   "source": [
    "### Installing and importing required libraries"
   ]
  },
  {
   "cell_type": "code",
   "execution_count": 176,
   "id": "89dea572-82fb-4fff-ae06-d547e9dab3ef",
   "metadata": {},
   "outputs": [
    {
     "name": "stdout",
     "output_type": "stream",
     "text": [
      "Requirement already satisfied: pycaret in c:\\users\\soham\\anaconda3\\lib\\site-packages (3.3.2)\n",
      "Requirement already satisfied: ipython>=5.5.0 in c:\\users\\soham\\anaconda3\\lib\\site-packages (from pycaret) (8.20.0)\n",
      "Requirement already satisfied: ipywidgets>=7.6.5 in c:\\users\\soham\\anaconda3\\lib\\site-packages (from pycaret) (7.6.5)\n",
      "Requirement already satisfied: tqdm>=4.62.0 in c:\\users\\soham\\anaconda3\\lib\\site-packages (from pycaret) (4.65.0)\n",
      "Requirement already satisfied: numpy<1.27,>=1.21 in c:\\users\\soham\\anaconda3\\lib\\site-packages (from pycaret) (1.26.4)\n",
      "Requirement already satisfied: pandas<2.2.0 in c:\\users\\soham\\anaconda3\\lib\\site-packages (from pycaret) (2.1.4)\n",
      "Requirement already satisfied: jinja2>=3 in c:\\users\\soham\\anaconda3\\lib\\site-packages (from pycaret) (3.1.3)\n",
      "Requirement already satisfied: scipy<=1.11.4,>=1.6.1 in c:\\users\\soham\\anaconda3\\lib\\site-packages (from pycaret) (1.11.4)\n",
      "Requirement already satisfied: joblib<1.4,>=1.2.0 in c:\\users\\soham\\anaconda3\\lib\\site-packages (from pycaret) (1.2.0)\n",
      "Requirement already satisfied: scikit-learn>1.4.0 in c:\\users\\soham\\anaconda3\\lib\\site-packages (from pycaret) (1.4.2)\n",
      "Requirement already satisfied: pyod>=1.1.3 in c:\\users\\soham\\anaconda3\\lib\\site-packages (from pycaret) (2.0.2)\n",
      "Requirement already satisfied: imbalanced-learn>=0.12.0 in c:\\users\\soham\\anaconda3\\lib\\site-packages (from pycaret) (0.12.4)\n",
      "Requirement already satisfied: category-encoders>=2.4.0 in c:\\users\\soham\\anaconda3\\lib\\site-packages (from pycaret) (2.6.4)\n",
      "Requirement already satisfied: lightgbm>=3.0.0 in c:\\users\\soham\\anaconda3\\lib\\site-packages (from pycaret) (4.5.0)\n",
      "Requirement already satisfied: numba>=0.55.0 in c:\\users\\soham\\anaconda3\\lib\\site-packages (from pycaret) (0.59.0)\n",
      "Requirement already satisfied: requests>=2.27.1 in c:\\users\\soham\\anaconda3\\lib\\site-packages (from pycaret) (2.31.0)\n",
      "Requirement already satisfied: psutil>=5.9.0 in c:\\users\\soham\\anaconda3\\lib\\site-packages (from pycaret) (5.9.0)\n",
      "Requirement already satisfied: markupsafe>=2.0.1 in c:\\users\\soham\\anaconda3\\lib\\site-packages (from pycaret) (2.1.3)\n",
      "Requirement already satisfied: importlib-metadata>=4.12.0 in c:\\users\\soham\\anaconda3\\lib\\site-packages (from pycaret) (7.0.1)\n",
      "Requirement already satisfied: nbformat>=4.2.0 in c:\\users\\soham\\anaconda3\\lib\\site-packages (from pycaret) (5.9.2)\n",
      "Requirement already satisfied: cloudpickle in c:\\users\\soham\\anaconda3\\lib\\site-packages (from pycaret) (2.2.1)\n",
      "Requirement already satisfied: deprecation>=2.1.0 in c:\\users\\soham\\anaconda3\\lib\\site-packages (from pycaret) (2.1.0)\n",
      "Requirement already satisfied: xxhash in c:\\users\\soham\\anaconda3\\lib\\site-packages (from pycaret) (3.5.0)\n",
      "Requirement already satisfied: matplotlib<3.8.0 in c:\\users\\soham\\anaconda3\\lib\\site-packages (from pycaret) (3.7.5)\n",
      "Requirement already satisfied: scikit-plot>=0.3.7 in c:\\users\\soham\\anaconda3\\lib\\site-packages (from pycaret) (0.3.7)\n",
      "Requirement already satisfied: yellowbrick>=1.4 in c:\\users\\soham\\anaconda3\\lib\\site-packages (from pycaret) (1.5)\n",
      "Requirement already satisfied: plotly>=5.14.0 in c:\\users\\soham\\anaconda3\\lib\\site-packages (from pycaret) (5.24.1)\n",
      "Requirement already satisfied: kaleido>=0.2.1 in c:\\users\\soham\\anaconda3\\lib\\site-packages (from pycaret) (0.2.1)\n",
      "Requirement already satisfied: schemdraw==0.15 in c:\\users\\soham\\anaconda3\\lib\\site-packages (from pycaret) (0.15)\n",
      "Requirement already satisfied: plotly-resampler>=0.8.3.1 in c:\\users\\soham\\anaconda3\\lib\\site-packages (from pycaret) (0.10.0)\n",
      "Requirement already satisfied: statsmodels>=0.12.1 in c:\\users\\soham\\anaconda3\\lib\\site-packages (from pycaret) (0.14.0)\n",
      "Requirement already satisfied: sktime==0.26.0 in c:\\users\\soham\\anaconda3\\lib\\site-packages (from pycaret) (0.26.0)\n",
      "Requirement already satisfied: tbats>=1.1.3 in c:\\users\\soham\\anaconda3\\lib\\site-packages (from pycaret) (1.1.3)\n",
      "Requirement already satisfied: pmdarima>=2.0.4 in c:\\users\\soham\\anaconda3\\lib\\site-packages (from pycaret) (2.0.4)\n",
      "Requirement already satisfied: packaging in c:\\users\\soham\\anaconda3\\lib\\site-packages (from sktime==0.26.0->pycaret) (23.1)\n",
      "Requirement already satisfied: scikit-base<0.8.0 in c:\\users\\soham\\anaconda3\\lib\\site-packages (from sktime==0.26.0->pycaret) (0.7.8)\n",
      "Requirement already satisfied: patsy>=0.5.1 in c:\\users\\soham\\anaconda3\\lib\\site-packages (from category-encoders>=2.4.0->pycaret) (0.5.3)\n",
      "Requirement already satisfied: threadpoolctl>=2.0.0 in c:\\users\\soham\\anaconda3\\lib\\site-packages (from imbalanced-learn>=0.12.0->pycaret) (2.2.0)\n",
      "Requirement already satisfied: zipp>=0.5 in c:\\users\\soham\\anaconda3\\lib\\site-packages (from importlib-metadata>=4.12.0->pycaret) (3.17.0)\n",
      "Requirement already satisfied: decorator in c:\\users\\soham\\anaconda3\\lib\\site-packages (from ipython>=5.5.0->pycaret) (5.1.1)\n",
      "Requirement already satisfied: jedi>=0.16 in c:\\users\\soham\\anaconda3\\lib\\site-packages (from ipython>=5.5.0->pycaret) (0.18.1)\n",
      "Requirement already satisfied: matplotlib-inline in c:\\users\\soham\\anaconda3\\lib\\site-packages (from ipython>=5.5.0->pycaret) (0.1.6)\n",
      "Requirement already satisfied: prompt-toolkit<3.1.0,>=3.0.41 in c:\\users\\soham\\anaconda3\\lib\\site-packages (from ipython>=5.5.0->pycaret) (3.0.43)\n",
      "Requirement already satisfied: pygments>=2.4.0 in c:\\users\\soham\\anaconda3\\lib\\site-packages (from ipython>=5.5.0->pycaret) (2.15.1)\n",
      "Requirement already satisfied: stack-data in c:\\users\\soham\\anaconda3\\lib\\site-packages (from ipython>=5.5.0->pycaret) (0.2.0)\n",
      "Requirement already satisfied: traitlets>=5 in c:\\users\\soham\\anaconda3\\lib\\site-packages (from ipython>=5.5.0->pycaret) (5.7.1)\n",
      "Requirement already satisfied: colorama in c:\\users\\soham\\anaconda3\\lib\\site-packages (from ipython>=5.5.0->pycaret) (0.4.6)\n",
      "Requirement already satisfied: ipykernel>=4.5.1 in c:\\users\\soham\\anaconda3\\lib\\site-packages (from ipywidgets>=7.6.5->pycaret) (6.28.0)\n",
      "Requirement already satisfied: ipython-genutils~=0.2.0 in c:\\users\\soham\\anaconda3\\lib\\site-packages (from ipywidgets>=7.6.5->pycaret) (0.2.0)\n",
      "Requirement already satisfied: widgetsnbextension~=3.5.0 in c:\\users\\soham\\anaconda3\\lib\\site-packages (from ipywidgets>=7.6.5->pycaret) (3.5.2)\n",
      "Requirement already satisfied: jupyterlab-widgets>=1.0.0 in c:\\users\\soham\\anaconda3\\lib\\site-packages (from ipywidgets>=7.6.5->pycaret) (3.0.9)\n",
      "Requirement already satisfied: contourpy>=1.0.1 in c:\\users\\soham\\anaconda3\\lib\\site-packages (from matplotlib<3.8.0->pycaret) (1.2.0)\n",
      "Requirement already satisfied: cycler>=0.10 in c:\\users\\soham\\anaconda3\\lib\\site-packages (from matplotlib<3.8.0->pycaret) (0.11.0)\n",
      "Requirement already satisfied: fonttools>=4.22.0 in c:\\users\\soham\\anaconda3\\lib\\site-packages (from matplotlib<3.8.0->pycaret) (4.25.0)\n",
      "Requirement already satisfied: kiwisolver>=1.0.1 in c:\\users\\soham\\anaconda3\\lib\\site-packages (from matplotlib<3.8.0->pycaret) (1.4.4)\n",
      "Requirement already satisfied: pillow>=6.2.0 in c:\\users\\soham\\anaconda3\\lib\\site-packages (from matplotlib<3.8.0->pycaret) (10.2.0)\n",
      "Requirement already satisfied: pyparsing>=2.3.1 in c:\\users\\soham\\anaconda3\\lib\\site-packages (from matplotlib<3.8.0->pycaret) (3.0.9)\n",
      "Requirement already satisfied: python-dateutil>=2.7 in c:\\users\\soham\\anaconda3\\lib\\site-packages (from matplotlib<3.8.0->pycaret) (2.8.2)\n",
      "Requirement already satisfied: fastjsonschema in c:\\users\\soham\\anaconda3\\lib\\site-packages (from nbformat>=4.2.0->pycaret) (2.16.2)\n",
      "Requirement already satisfied: jsonschema>=2.6 in c:\\users\\soham\\anaconda3\\lib\\site-packages (from nbformat>=4.2.0->pycaret) (4.19.2)\n",
      "Requirement already satisfied: jupyter-core in c:\\users\\soham\\anaconda3\\lib\\site-packages (from nbformat>=4.2.0->pycaret) (5.5.0)\n",
      "Requirement already satisfied: llvmlite<0.43,>=0.42.0dev0 in c:\\users\\soham\\anaconda3\\lib\\site-packages (from numba>=0.55.0->pycaret) (0.42.0)\n",
      "Requirement already satisfied: pytz>=2020.1 in c:\\users\\soham\\anaconda3\\lib\\site-packages (from pandas<2.2.0->pycaret) (2023.3.post1)\n",
      "Requirement already satisfied: tzdata>=2022.1 in c:\\users\\soham\\anaconda3\\lib\\site-packages (from pandas<2.2.0->pycaret) (2023.3)\n",
      "Requirement already satisfied: tenacity>=6.2.0 in c:\\users\\soham\\anaconda3\\lib\\site-packages (from plotly>=5.14.0->pycaret) (8.2.2)\n",
      "Requirement already satisfied: dash>=2.9.0 in c:\\users\\soham\\anaconda3\\lib\\site-packages (from plotly-resampler>=0.8.3.1->pycaret) (2.18.1)\n",
      "Requirement already satisfied: orjson<4.0.0,>=3.8.0 in c:\\users\\soham\\anaconda3\\lib\\site-packages (from plotly-resampler>=0.8.3.1->pycaret) (3.10.11)\n",
      "Requirement already satisfied: tsdownsample>=0.1.3 in c:\\users\\soham\\anaconda3\\lib\\site-packages (from plotly-resampler>=0.8.3.1->pycaret) (0.1.3)\n",
      "Requirement already satisfied: Cython!=0.29.18,!=0.29.31,>=0.29 in c:\\users\\soham\\anaconda3\\lib\\site-packages (from pmdarima>=2.0.4->pycaret) (3.0.11)\n",
      "Requirement already satisfied: urllib3 in c:\\users\\soham\\anaconda3\\lib\\site-packages (from pmdarima>=2.0.4->pycaret) (2.0.7)\n",
      "Requirement already satisfied: setuptools!=50.0.0,>=38.6.0 in c:\\users\\soham\\anaconda3\\lib\\site-packages (from pmdarima>=2.0.4->pycaret) (68.2.2)\n",
      "Requirement already satisfied: charset-normalizer<4,>=2 in c:\\users\\soham\\anaconda3\\lib\\site-packages (from requests>=2.27.1->pycaret) (2.0.4)\n",
      "Requirement already satisfied: idna<4,>=2.5 in c:\\users\\soham\\anaconda3\\lib\\site-packages (from requests>=2.27.1->pycaret) (3.4)\n",
      "Requirement already satisfied: certifi>=2017.4.17 in c:\\users\\soham\\anaconda3\\lib\\site-packages (from requests>=2.27.1->pycaret) (2024.8.30)\n",
      "Requirement already satisfied: Flask<3.1,>=1.0.4 in c:\\users\\soham\\anaconda3\\lib\\site-packages (from dash>=2.9.0->plotly-resampler>=0.8.3.1->pycaret) (2.2.5)\n",
      "Requirement already satisfied: Werkzeug<3.1 in c:\\users\\soham\\anaconda3\\lib\\site-packages (from dash>=2.9.0->plotly-resampler>=0.8.3.1->pycaret) (2.2.3)\n",
      "Requirement already satisfied: dash-html-components==2.0.0 in c:\\users\\soham\\anaconda3\\lib\\site-packages (from dash>=2.9.0->plotly-resampler>=0.8.3.1->pycaret) (2.0.0)\n",
      "Requirement already satisfied: dash-core-components==2.0.0 in c:\\users\\soham\\anaconda3\\lib\\site-packages (from dash>=2.9.0->plotly-resampler>=0.8.3.1->pycaret) (2.0.0)\n",
      "Requirement already satisfied: dash-table==5.0.0 in c:\\users\\soham\\anaconda3\\lib\\site-packages (from dash>=2.9.0->plotly-resampler>=0.8.3.1->pycaret) (5.0.0)\n",
      "Requirement already satisfied: typing-extensions>=4.1.1 in c:\\users\\soham\\anaconda3\\lib\\site-packages (from dash>=2.9.0->plotly-resampler>=0.8.3.1->pycaret) (4.9.0)\n",
      "Requirement already satisfied: retrying in c:\\users\\soham\\anaconda3\\lib\\site-packages (from dash>=2.9.0->plotly-resampler>=0.8.3.1->pycaret) (1.3.4)\n",
      "Requirement already satisfied: nest-asyncio in c:\\users\\soham\\anaconda3\\lib\\site-packages (from dash>=2.9.0->plotly-resampler>=0.8.3.1->pycaret) (1.6.0)\n",
      "Requirement already satisfied: comm>=0.1.1 in c:\\users\\soham\\anaconda3\\lib\\site-packages (from ipykernel>=4.5.1->ipywidgets>=7.6.5->pycaret) (0.1.2)\n",
      "Requirement already satisfied: debugpy>=1.6.5 in c:\\users\\soham\\anaconda3\\lib\\site-packages (from ipykernel>=4.5.1->ipywidgets>=7.6.5->pycaret) (1.6.7)\n",
      "Requirement already satisfied: jupyter-client>=6.1.12 in c:\\users\\soham\\anaconda3\\lib\\site-packages (from ipykernel>=4.5.1->ipywidgets>=7.6.5->pycaret) (8.6.0)\n",
      "Requirement already satisfied: pyzmq>=24 in c:\\users\\soham\\anaconda3\\lib\\site-packages (from ipykernel>=4.5.1->ipywidgets>=7.6.5->pycaret) (25.1.2)\n",
      "Requirement already satisfied: tornado>=6.1 in c:\\users\\soham\\anaconda3\\lib\\site-packages (from ipykernel>=4.5.1->ipywidgets>=7.6.5->pycaret) (6.3.3)\n",
      "Requirement already satisfied: parso<0.9.0,>=0.8.0 in c:\\users\\soham\\anaconda3\\lib\\site-packages (from jedi>=0.16->ipython>=5.5.0->pycaret) (0.8.3)\n",
      "Requirement already satisfied: attrs>=22.2.0 in c:\\users\\soham\\anaconda3\\lib\\site-packages (from jsonschema>=2.6->nbformat>=4.2.0->pycaret) (23.1.0)\n",
      "Requirement already satisfied: jsonschema-specifications>=2023.03.6 in c:\\users\\soham\\anaconda3\\lib\\site-packages (from jsonschema>=2.6->nbformat>=4.2.0->pycaret) (2023.7.1)\n",
      "Requirement already satisfied: referencing>=0.28.4 in c:\\users\\soham\\anaconda3\\lib\\site-packages (from jsonschema>=2.6->nbformat>=4.2.0->pycaret) (0.30.2)\n",
      "Requirement already satisfied: rpds-py>=0.7.1 in c:\\users\\soham\\anaconda3\\lib\\site-packages (from jsonschema>=2.6->nbformat>=4.2.0->pycaret) (0.10.6)\n",
      "Requirement already satisfied: platformdirs>=2.5 in c:\\users\\soham\\anaconda3\\lib\\site-packages (from jupyter-core->nbformat>=4.2.0->pycaret) (3.10.0)\n",
      "Requirement already satisfied: pywin32>=300 in c:\\users\\soham\\anaconda3\\lib\\site-packages (from jupyter-core->nbformat>=4.2.0->pycaret) (305.1)\n",
      "Requirement already satisfied: six in c:\\users\\soham\\anaconda3\\lib\\site-packages (from patsy>=0.5.1->category-encoders>=2.4.0->pycaret) (1.16.0)\n",
      "Requirement already satisfied: wcwidth in c:\\users\\soham\\anaconda3\\lib\\site-packages (from prompt-toolkit<3.1.0,>=3.0.41->ipython>=5.5.0->pycaret) (0.2.5)\n",
      "Requirement already satisfied: notebook>=4.4.1 in c:\\users\\soham\\anaconda3\\lib\\site-packages (from widgetsnbextension~=3.5.0->ipywidgets>=7.6.5->pycaret) (7.2.2)\n",
      "Requirement already satisfied: executing in c:\\users\\soham\\anaconda3\\lib\\site-packages (from stack-data->ipython>=5.5.0->pycaret) (0.8.3)\n",
      "Requirement already satisfied: asttokens in c:\\users\\soham\\anaconda3\\lib\\site-packages (from stack-data->ipython>=5.5.0->pycaret) (2.0.5)\n",
      "Requirement already satisfied: pure-eval in c:\\users\\soham\\anaconda3\\lib\\site-packages (from stack-data->ipython>=5.5.0->pycaret) (0.2.2)\n",
      "Requirement already satisfied: itsdangerous>=2.0 in c:\\users\\soham\\anaconda3\\lib\\site-packages (from Flask<3.1,>=1.0.4->dash>=2.9.0->plotly-resampler>=0.8.3.1->pycaret) (2.0.1)\n",
      "Requirement already satisfied: click>=8.0 in c:\\users\\soham\\anaconda3\\lib\\site-packages (from Flask<3.1,>=1.0.4->dash>=2.9.0->plotly-resampler>=0.8.3.1->pycaret) (8.1.7)\n",
      "Requirement already satisfied: jupyter-server<3,>=2.4.0 in c:\\users\\soham\\anaconda3\\lib\\site-packages (from notebook>=4.4.1->widgetsnbextension~=3.5.0->ipywidgets>=7.6.5->pycaret) (2.10.0)\n",
      "Requirement already satisfied: jupyterlab-server<3,>=2.27.1 in c:\\users\\soham\\anaconda3\\lib\\site-packages (from notebook>=4.4.1->widgetsnbextension~=3.5.0->ipywidgets>=7.6.5->pycaret) (2.27.3)\n",
      "Requirement already satisfied: jupyterlab<4.3,>=4.2.0 in c:\\users\\soham\\anaconda3\\lib\\site-packages (from notebook>=4.4.1->widgetsnbextension~=3.5.0->ipywidgets>=7.6.5->pycaret) (4.2.5)\n",
      "Requirement already satisfied: notebook-shim<0.3,>=0.2 in c:\\users\\soham\\anaconda3\\lib\\site-packages (from notebook>=4.4.1->widgetsnbextension~=3.5.0->ipywidgets>=7.6.5->pycaret) (0.2.3)\n",
      "Requirement already satisfied: anyio>=3.1.0 in c:\\users\\soham\\anaconda3\\lib\\site-packages (from jupyter-server<3,>=2.4.0->notebook>=4.4.1->widgetsnbextension~=3.5.0->ipywidgets>=7.6.5->pycaret) (4.2.0)\n",
      "Requirement already satisfied: argon2-cffi in c:\\users\\soham\\anaconda3\\lib\\site-packages (from jupyter-server<3,>=2.4.0->notebook>=4.4.1->widgetsnbextension~=3.5.0->ipywidgets>=7.6.5->pycaret) (21.3.0)\n",
      "Requirement already satisfied: jupyter-events>=0.6.0 in c:\\users\\soham\\anaconda3\\lib\\site-packages (from jupyter-server<3,>=2.4.0->notebook>=4.4.1->widgetsnbextension~=3.5.0->ipywidgets>=7.6.5->pycaret) (0.8.0)\n",
      "Requirement already satisfied: jupyter-server-terminals in c:\\users\\soham\\anaconda3\\lib\\site-packages (from jupyter-server<3,>=2.4.0->notebook>=4.4.1->widgetsnbextension~=3.5.0->ipywidgets>=7.6.5->pycaret) (0.4.4)\n",
      "Requirement already satisfied: nbconvert>=6.4.4 in c:\\users\\soham\\anaconda3\\lib\\site-packages (from jupyter-server<3,>=2.4.0->notebook>=4.4.1->widgetsnbextension~=3.5.0->ipywidgets>=7.6.5->pycaret) (7.10.0)\n",
      "Requirement already satisfied: overrides in c:\\users\\soham\\anaconda3\\lib\\site-packages (from jupyter-server<3,>=2.4.0->notebook>=4.4.1->widgetsnbextension~=3.5.0->ipywidgets>=7.6.5->pycaret) (7.4.0)\n",
      "Requirement already satisfied: prometheus-client in c:\\users\\soham\\anaconda3\\lib\\site-packages (from jupyter-server<3,>=2.4.0->notebook>=4.4.1->widgetsnbextension~=3.5.0->ipywidgets>=7.6.5->pycaret) (0.14.1)\n",
      "Requirement already satisfied: pywinpty in c:\\users\\soham\\anaconda3\\lib\\site-packages (from jupyter-server<3,>=2.4.0->notebook>=4.4.1->widgetsnbextension~=3.5.0->ipywidgets>=7.6.5->pycaret) (2.0.10)\n",
      "Requirement already satisfied: send2trash>=1.8.2 in c:\\users\\soham\\anaconda3\\lib\\site-packages (from jupyter-server<3,>=2.4.0->notebook>=4.4.1->widgetsnbextension~=3.5.0->ipywidgets>=7.6.5->pycaret) (1.8.2)\n",
      "Requirement already satisfied: terminado>=0.8.3 in c:\\users\\soham\\anaconda3\\lib\\site-packages (from jupyter-server<3,>=2.4.0->notebook>=4.4.1->widgetsnbextension~=3.5.0->ipywidgets>=7.6.5->pycaret) (0.17.1)\n",
      "Requirement already satisfied: websocket-client in c:\\users\\soham\\anaconda3\\lib\\site-packages (from jupyter-server<3,>=2.4.0->notebook>=4.4.1->widgetsnbextension~=3.5.0->ipywidgets>=7.6.5->pycaret) (0.58.0)\n",
      "Requirement already satisfied: async-lru>=1.0.0 in c:\\users\\soham\\anaconda3\\lib\\site-packages (from jupyterlab<4.3,>=4.2.0->notebook>=4.4.1->widgetsnbextension~=3.5.0->ipywidgets>=7.6.5->pycaret) (2.0.4)\n",
      "Requirement already satisfied: httpx>=0.25.0 in c:\\users\\soham\\anaconda3\\lib\\site-packages (from jupyterlab<4.3,>=4.2.0->notebook>=4.4.1->widgetsnbextension~=3.5.0->ipywidgets>=7.6.5->pycaret) (0.27.0)\n",
      "Requirement already satisfied: jupyter-lsp>=2.0.0 in c:\\users\\soham\\anaconda3\\lib\\site-packages (from jupyterlab<4.3,>=4.2.0->notebook>=4.4.1->widgetsnbextension~=3.5.0->ipywidgets>=7.6.5->pycaret) (2.2.0)\n",
      "Requirement already satisfied: babel>=2.10 in c:\\users\\soham\\anaconda3\\lib\\site-packages (from jupyterlab-server<3,>=2.27.1->notebook>=4.4.1->widgetsnbextension~=3.5.0->ipywidgets>=7.6.5->pycaret) (2.11.0)\n",
      "Requirement already satisfied: json5>=0.9.0 in c:\\users\\soham\\anaconda3\\lib\\site-packages (from jupyterlab-server<3,>=2.27.1->notebook>=4.4.1->widgetsnbextension~=3.5.0->ipywidgets>=7.6.5->pycaret) (0.9.6)\n",
      "Requirement already satisfied: sniffio>=1.1 in c:\\users\\soham\\anaconda3\\lib\\site-packages (from anyio>=3.1.0->jupyter-server<3,>=2.4.0->notebook>=4.4.1->widgetsnbextension~=3.5.0->ipywidgets>=7.6.5->pycaret) (1.3.0)\n",
      "Requirement already satisfied: httpcore==1.* in c:\\users\\soham\\anaconda3\\lib\\site-packages (from httpx>=0.25.0->jupyterlab<4.3,>=4.2.0->notebook>=4.4.1->widgetsnbextension~=3.5.0->ipywidgets>=7.6.5->pycaret) (1.0.2)\n",
      "Requirement already satisfied: h11<0.15,>=0.13 in c:\\users\\soham\\anaconda3\\lib\\site-packages (from httpcore==1.*->httpx>=0.25.0->jupyterlab<4.3,>=4.2.0->notebook>=4.4.1->widgetsnbextension~=3.5.0->ipywidgets>=7.6.5->pycaret) (0.14.0)\n",
      "Requirement already satisfied: python-json-logger>=2.0.4 in c:\\users\\soham\\anaconda3\\lib\\site-packages (from jupyter-events>=0.6.0->jupyter-server<3,>=2.4.0->notebook>=4.4.1->widgetsnbextension~=3.5.0->ipywidgets>=7.6.5->pycaret) (2.0.7)\n",
      "Requirement already satisfied: pyyaml>=5.3 in c:\\users\\soham\\anaconda3\\lib\\site-packages (from jupyter-events>=0.6.0->jupyter-server<3,>=2.4.0->notebook>=4.4.1->widgetsnbextension~=3.5.0->ipywidgets>=7.6.5->pycaret) (6.0.1)\n",
      "Requirement already satisfied: rfc3339-validator in c:\\users\\soham\\anaconda3\\lib\\site-packages (from jupyter-events>=0.6.0->jupyter-server<3,>=2.4.0->notebook>=4.4.1->widgetsnbextension~=3.5.0->ipywidgets>=7.6.5->pycaret) (0.1.4)\n",
      "Requirement already satisfied: rfc3986-validator>=0.1.1 in c:\\users\\soham\\anaconda3\\lib\\site-packages (from jupyter-events>=0.6.0->jupyter-server<3,>=2.4.0->notebook>=4.4.1->widgetsnbextension~=3.5.0->ipywidgets>=7.6.5->pycaret) (0.1.1)\n",
      "Requirement already satisfied: beautifulsoup4 in c:\\users\\soham\\anaconda3\\lib\\site-packages (from nbconvert>=6.4.4->jupyter-server<3,>=2.4.0->notebook>=4.4.1->widgetsnbextension~=3.5.0->ipywidgets>=7.6.5->pycaret) (4.12.2)\n",
      "Requirement already satisfied: bleach!=5.0.0 in c:\\users\\soham\\anaconda3\\lib\\site-packages (from nbconvert>=6.4.4->jupyter-server<3,>=2.4.0->notebook>=4.4.1->widgetsnbextension~=3.5.0->ipywidgets>=7.6.5->pycaret) (4.1.0)\n",
      "Requirement already satisfied: defusedxml in c:\\users\\soham\\anaconda3\\lib\\site-packages (from nbconvert>=6.4.4->jupyter-server<3,>=2.4.0->notebook>=4.4.1->widgetsnbextension~=3.5.0->ipywidgets>=7.6.5->pycaret) (0.7.1)\n",
      "Requirement already satisfied: jupyterlab-pygments in c:\\users\\soham\\anaconda3\\lib\\site-packages (from nbconvert>=6.4.4->jupyter-server<3,>=2.4.0->notebook>=4.4.1->widgetsnbextension~=3.5.0->ipywidgets>=7.6.5->pycaret) (0.1.2)\n",
      "Requirement already satisfied: mistune<4,>=2.0.3 in c:\\users\\soham\\anaconda3\\lib\\site-packages (from nbconvert>=6.4.4->jupyter-server<3,>=2.4.0->notebook>=4.4.1->widgetsnbextension~=3.5.0->ipywidgets>=7.6.5->pycaret) (2.0.4)\n",
      "Requirement already satisfied: nbclient>=0.5.0 in c:\\users\\soham\\anaconda3\\lib\\site-packages (from nbconvert>=6.4.4->jupyter-server<3,>=2.4.0->notebook>=4.4.1->widgetsnbextension~=3.5.0->ipywidgets>=7.6.5->pycaret) (0.8.0)\n",
      "Requirement already satisfied: pandocfilters>=1.4.1 in c:\\users\\soham\\anaconda3\\lib\\site-packages (from nbconvert>=6.4.4->jupyter-server<3,>=2.4.0->notebook>=4.4.1->widgetsnbextension~=3.5.0->ipywidgets>=7.6.5->pycaret) (1.5.0)\n",
      "Requirement already satisfied: tinycss2 in c:\\users\\soham\\anaconda3\\lib\\site-packages (from nbconvert>=6.4.4->jupyter-server<3,>=2.4.0->notebook>=4.4.1->widgetsnbextension~=3.5.0->ipywidgets>=7.6.5->pycaret) (1.2.1)\n",
      "Requirement already satisfied: argon2-cffi-bindings in c:\\users\\soham\\anaconda3\\lib\\site-packages (from argon2-cffi->jupyter-server<3,>=2.4.0->notebook>=4.4.1->widgetsnbextension~=3.5.0->ipywidgets>=7.6.5->pycaret) (21.2.0)\n",
      "Requirement already satisfied: webencodings in c:\\users\\soham\\anaconda3\\lib\\site-packages (from bleach!=5.0.0->nbconvert>=6.4.4->jupyter-server<3,>=2.4.0->notebook>=4.4.1->widgetsnbextension~=3.5.0->ipywidgets>=7.6.5->pycaret) (0.5.1)\n",
      "Requirement already satisfied: fqdn in c:\\users\\soham\\anaconda3\\lib\\site-packages (from jsonschema[format-nongpl]>=4.18.0->jupyter-events>=0.6.0->jupyter-server<3,>=2.4.0->notebook>=4.4.1->widgetsnbextension~=3.5.0->ipywidgets>=7.6.5->pycaret) (1.5.1)\n",
      "Requirement already satisfied: isoduration in c:\\users\\soham\\anaconda3\\lib\\site-packages (from jsonschema[format-nongpl]>=4.18.0->jupyter-events>=0.6.0->jupyter-server<3,>=2.4.0->notebook>=4.4.1->widgetsnbextension~=3.5.0->ipywidgets>=7.6.5->pycaret) (20.11.0)\n",
      "Requirement already satisfied: jsonpointer>1.13 in c:\\users\\soham\\anaconda3\\lib\\site-packages (from jsonschema[format-nongpl]>=4.18.0->jupyter-events>=0.6.0->jupyter-server<3,>=2.4.0->notebook>=4.4.1->widgetsnbextension~=3.5.0->ipywidgets>=7.6.5->pycaret) (2.1)\n",
      "Requirement already satisfied: uri-template in c:\\users\\soham\\anaconda3\\lib\\site-packages (from jsonschema[format-nongpl]>=4.18.0->jupyter-events>=0.6.0->jupyter-server<3,>=2.4.0->notebook>=4.4.1->widgetsnbextension~=3.5.0->ipywidgets>=7.6.5->pycaret) (1.3.0)\n",
      "Requirement already satisfied: webcolors>=1.11 in c:\\users\\soham\\anaconda3\\lib\\site-packages (from jsonschema[format-nongpl]>=4.18.0->jupyter-events>=0.6.0->jupyter-server<3,>=2.4.0->notebook>=4.4.1->widgetsnbextension~=3.5.0->ipywidgets>=7.6.5->pycaret) (24.8.0)\n",
      "Requirement already satisfied: cffi>=1.0.1 in c:\\users\\soham\\anaconda3\\lib\\site-packages (from argon2-cffi-bindings->argon2-cffi->jupyter-server<3,>=2.4.0->notebook>=4.4.1->widgetsnbextension~=3.5.0->ipywidgets>=7.6.5->pycaret) (1.16.0)\n",
      "Requirement already satisfied: soupsieve>1.2 in c:\\users\\soham\\anaconda3\\lib\\site-packages (from beautifulsoup4->nbconvert>=6.4.4->jupyter-server<3,>=2.4.0->notebook>=4.4.1->widgetsnbextension~=3.5.0->ipywidgets>=7.6.5->pycaret) (2.5)\n",
      "Requirement already satisfied: pycparser in c:\\users\\soham\\anaconda3\\lib\\site-packages (from cffi>=1.0.1->argon2-cffi-bindings->argon2-cffi->jupyter-server<3,>=2.4.0->notebook>=4.4.1->widgetsnbextension~=3.5.0->ipywidgets>=7.6.5->pycaret) (2.21)\n",
      "Requirement already satisfied: arrow>=0.15.0 in c:\\users\\soham\\anaconda3\\lib\\site-packages (from isoduration->jsonschema[format-nongpl]>=4.18.0->jupyter-events>=0.6.0->jupyter-server<3,>=2.4.0->notebook>=4.4.1->widgetsnbextension~=3.5.0->ipywidgets>=7.6.5->pycaret) (1.2.3)\n",
      "Note: you may need to restart the kernel to use updated packages.\n"
     ]
    }
   ],
   "source": [
    "pip install pycaret"
   ]
  },
  {
   "cell_type": "code",
   "execution_count": 177,
   "id": "ea5aeba6-2037-43c7-afee-a6110b997a4e",
   "metadata": {},
   "outputs": [],
   "source": [
    "# Importing the libraries\n",
    "\n",
    "import pandas as pd\n",
    "import numpy as np\n",
    "import pycaret\n",
    "import seaborn as sns\n",
    "import sklearn\n",
    "import matplotlib.pyplot as plt"
   ]
  },
  {
   "cell_type": "markdown",
   "id": "8a43fd81-440b-4fad-a573-70698c350359",
   "metadata": {},
   "source": [
    "### Loading and displaying the dataset"
   ]
  },
  {
   "cell_type": "code",
   "execution_count": 179,
   "id": "782b5ff5-68eb-4764-bd6d-1d7f129e035c",
   "metadata": {},
   "outputs": [
    {
     "data": {
      "text/html": [
       "<div>\n",
       "<style scoped>\n",
       "    .dataframe tbody tr th:only-of-type {\n",
       "        vertical-align: middle;\n",
       "    }\n",
       "\n",
       "    .dataframe tbody tr th {\n",
       "        vertical-align: top;\n",
       "    }\n",
       "\n",
       "    .dataframe thead th {\n",
       "        text-align: right;\n",
       "    }\n",
       "</style>\n",
       "<table border=\"1\" class=\"dataframe\">\n",
       "  <thead>\n",
       "    <tr style=\"text-align: right;\">\n",
       "      <th></th>\n",
       "      <th>Patient ID</th>\n",
       "      <th>Moth of Birth</th>\n",
       "      <th>Age</th>\n",
       "      <th>Sex</th>\n",
       "      <th>Race</th>\n",
       "      <th>Marital Status</th>\n",
       "      <th>Occupation Code</th>\n",
       "      <th>Adopted Status</th>\n",
       "      <th>T Stage</th>\n",
       "      <th>N Stage</th>\n",
       "      <th>...</th>\n",
       "      <th>differentiate</th>\n",
       "      <th>Grade</th>\n",
       "      <th>A Stage</th>\n",
       "      <th>Tumor Size</th>\n",
       "      <th>Estrogen Status</th>\n",
       "      <th>Progesterone Status</th>\n",
       "      <th>Regional Node Examined</th>\n",
       "      <th>Reginol Node Positive</th>\n",
       "      <th>Survival Months</th>\n",
       "      <th>Mortality_Status</th>\n",
       "    </tr>\n",
       "  </thead>\n",
       "  <tbody>\n",
       "    <tr>\n",
       "      <th>0</th>\n",
       "      <td>A0012</td>\n",
       "      <td>12</td>\n",
       "      <td>68.0</td>\n",
       "      <td>Female</td>\n",
       "      <td>White</td>\n",
       "      <td>Married</td>\n",
       "      <td>11.0</td>\n",
       "      <td>1</td>\n",
       "      <td>T1</td>\n",
       "      <td>N1</td>\n",
       "      <td>...</td>\n",
       "      <td>Poorly differentiated</td>\n",
       "      <td>3</td>\n",
       "      <td>Regional</td>\n",
       "      <td>4.0</td>\n",
       "      <td>Positive</td>\n",
       "      <td>Positive</td>\n",
       "      <td>24</td>\n",
       "      <td>1</td>\n",
       "      <td>60</td>\n",
       "      <td>Alive</td>\n",
       "    </tr>\n",
       "    <tr>\n",
       "      <th>1</th>\n",
       "      <td>A0013</td>\n",
       "      <td>12</td>\n",
       "      <td>50.0</td>\n",
       "      <td>Female</td>\n",
       "      <td>White</td>\n",
       "      <td>Married</td>\n",
       "      <td>11.0</td>\n",
       "      <td>0</td>\n",
       "      <td>T2</td>\n",
       "      <td>N2</td>\n",
       "      <td>...</td>\n",
       "      <td>Moderately differentiated</td>\n",
       "      <td>2</td>\n",
       "      <td>Regional</td>\n",
       "      <td>35.0</td>\n",
       "      <td>Positive</td>\n",
       "      <td>Positive</td>\n",
       "      <td>14</td>\n",
       "      <td>5</td>\n",
       "      <td>62</td>\n",
       "      <td>Alive</td>\n",
       "    </tr>\n",
       "    <tr>\n",
       "      <th>2</th>\n",
       "      <td>A0014</td>\n",
       "      <td>11</td>\n",
       "      <td>58.0</td>\n",
       "      <td>Female</td>\n",
       "      <td>White</td>\n",
       "      <td>Divorced</td>\n",
       "      <td>9.0</td>\n",
       "      <td>0</td>\n",
       "      <td>T3</td>\n",
       "      <td>N3</td>\n",
       "      <td>...</td>\n",
       "      <td>Moderately differentiated</td>\n",
       "      <td>2</td>\n",
       "      <td>Regional</td>\n",
       "      <td>63.0</td>\n",
       "      <td>Positive</td>\n",
       "      <td>Positive</td>\n",
       "      <td>14</td>\n",
       "      <td>7</td>\n",
       "      <td>75</td>\n",
       "      <td>Alive</td>\n",
       "    </tr>\n",
       "    <tr>\n",
       "      <th>3</th>\n",
       "      <td>A0015</td>\n",
       "      <td>3</td>\n",
       "      <td>58.0</td>\n",
       "      <td>Female</td>\n",
       "      <td>White</td>\n",
       "      <td>Married</td>\n",
       "      <td>10.0</td>\n",
       "      <td>0</td>\n",
       "      <td>T1</td>\n",
       "      <td>N1</td>\n",
       "      <td>...</td>\n",
       "      <td>Poorly differentiated</td>\n",
       "      <td>3</td>\n",
       "      <td>Regional</td>\n",
       "      <td>18.0</td>\n",
       "      <td>Positive</td>\n",
       "      <td>Positive</td>\n",
       "      <td>2</td>\n",
       "      <td>1</td>\n",
       "      <td>84</td>\n",
       "      <td>Alive</td>\n",
       "    </tr>\n",
       "    <tr>\n",
       "      <th>4</th>\n",
       "      <td>A0016</td>\n",
       "      <td>1</td>\n",
       "      <td>47.0</td>\n",
       "      <td>Female</td>\n",
       "      <td>White</td>\n",
       "      <td>Married</td>\n",
       "      <td>12.0</td>\n",
       "      <td>0</td>\n",
       "      <td>T2</td>\n",
       "      <td>N1</td>\n",
       "      <td>...</td>\n",
       "      <td>Poorly differentiated</td>\n",
       "      <td>3</td>\n",
       "      <td>Regional</td>\n",
       "      <td>41.0</td>\n",
       "      <td>Positive</td>\n",
       "      <td>Positive</td>\n",
       "      <td>3</td>\n",
       "      <td>1</td>\n",
       "      <td>50</td>\n",
       "      <td>Alive</td>\n",
       "    </tr>\n",
       "  </tbody>\n",
       "</table>\n",
       "<p>5 rows × 21 columns</p>\n",
       "</div>"
      ],
      "text/plain": [
       "  Patient ID   Moth of Birth   Age     Sex   Race Marital Status  \\\n",
       "0       A0012             12  68.0  Female  White        Married   \n",
       "1       A0013             12  50.0  Female  White        Married   \n",
       "2       A0014             11  58.0  Female  White       Divorced   \n",
       "3       A0015              3  58.0  Female  White        Married   \n",
       "4       A0016              1  47.0  Female  White        Married   \n",
       "\n",
       "   Occupation Code  Adopted Status T Stage  N Stage  ...  \\\n",
       "0             11.0               1       T1      N1  ...   \n",
       "1             11.0               0       T2      N2  ...   \n",
       "2              9.0               0       T3      N3  ...   \n",
       "3             10.0               0       T1      N1  ...   \n",
       "4             12.0               0       T2      N1  ...   \n",
       "\n",
       "               differentiate Grade   A Stage Tumor Size  Estrogen Status  \\\n",
       "0      Poorly differentiated     3  Regional        4.0         Positive   \n",
       "1  Moderately differentiated     2  Regional       35.0         Positive   \n",
       "2  Moderately differentiated     2  Regional       63.0         Positive   \n",
       "3      Poorly differentiated     3  Regional       18.0         Positive   \n",
       "4      Poorly differentiated     3  Regional       41.0         Positive   \n",
       "\n",
       "  Progesterone Status Regional Node Examined Reginol Node Positive  \\\n",
       "0            Positive                     24                     1   \n",
       "1            Positive                     14                     5   \n",
       "2            Positive                     14                     7   \n",
       "3            Positive                      2                     1   \n",
       "4            Positive                      3                     1   \n",
       "\n",
       "  Survival Months  Mortality_Status  \n",
       "0              60             Alive  \n",
       "1              62             Alive  \n",
       "2              75             Alive  \n",
       "3              84             Alive  \n",
       "4              50             Alive  \n",
       "\n",
       "[5 rows x 21 columns]"
      ]
     },
     "execution_count": 179,
     "metadata": {},
     "output_type": "execute_result"
    }
   ],
   "source": [
    "# reading the data\n",
    "Mort_pred = pd.read_csv(r\"C:\\Users\\soham\\OneDrive\\Desktop\\Datasets\\Breast_Cancer_Mortality_Survival_Dataset.csv\")\n",
    "\n",
    "# displaying the first five rows of the data set\n",
    "Mort_pred.head()"
   ]
  },
  {
   "cell_type": "code",
   "execution_count": 180,
   "id": "b046f8fc-81a9-4d33-ae52-4d1505778bac",
   "metadata": {},
   "outputs": [
    {
     "name": "stdout",
     "output_type": "stream",
     "text": [
      "<class 'pandas.core.frame.DataFrame'>\n",
      "RangeIndex: 4024 entries, 0 to 4023\n",
      "Data columns (total 21 columns):\n",
      " #   Column                  Non-Null Count  Dtype  \n",
      "---  ------                  --------------  -----  \n",
      " 0   Patient ID              4024 non-null   object \n",
      " 1   Moth of Birth           4024 non-null   int64  \n",
      " 2   Age                     4015 non-null   float64\n",
      " 3   Sex                     3947 non-null   object \n",
      " 4   Race                    4024 non-null   object \n",
      " 5   Marital Status          4024 non-null   object \n",
      " 6   Occupation Code         4021 non-null   float64\n",
      " 7   Adopted Status          4024 non-null   int64  \n",
      " 8   T Stage                 4024 non-null   object \n",
      " 9   N Stage                 4024 non-null   object \n",
      " 10  6th Stage               4024 non-null   object \n",
      " 11  differentiate           4024 non-null   object \n",
      " 12  Grade                   4024 non-null   int64  \n",
      " 13  A Stage                 4024 non-null   object \n",
      " 14  Tumor Size              4021 non-null   float64\n",
      " 15  Estrogen Status         4024 non-null   object \n",
      " 16  Progesterone Status     4024 non-null   object \n",
      " 17  Regional Node Examined  4023 non-null   object \n",
      " 18  Reginol Node Positive   4024 non-null   object \n",
      " 19  Survival Months         4024 non-null   int64  \n",
      " 20  Mortality_Status        4020 non-null   object \n",
      "dtypes: float64(3), int64(4), object(14)\n",
      "memory usage: 660.3+ KB\n"
     ]
    }
   ],
   "source": [
    "# Displaying a list of features\n",
    "\n",
    "Mort_pred.info()"
   ]
  },
  {
   "cell_type": "markdown",
   "id": "9bd968ca-3dc8-4de8-a7a6-a5688ba6dcbd",
   "metadata": {},
   "source": [
    "### Checking for unique values in certain features"
   ]
  },
  {
   "cell_type": "code",
   "execution_count": 182,
   "id": "1fa38c1f-f962-4c53-a99b-254ed3207c47",
   "metadata": {},
   "outputs": [
    {
     "name": "stdout",
     "output_type": "stream",
     "text": [
      "['Female' nan]\n"
     ]
    }
   ],
   "source": [
    "# Checking whether there are any other \"sex\" to decide whether to retain or drop said feature whilst model building\n",
    "\n",
    "genders = Mort_pred['Sex'].unique()\n",
    "print(genders)"
   ]
  },
  {
   "cell_type": "markdown",
   "id": "1e195c51-01b2-4589-9ff9-373ea73bc193",
   "metadata": {},
   "source": [
    "According to the above codeblock, we can determine that there's no other \"sex\" other than \"Female\". We can drop the column as retaining it won't make a difference in the final model."
   ]
  },
  {
   "cell_type": "code",
   "execution_count": 184,
   "id": "fb534b7f-4ce4-423c-883f-9dcdf2416c33",
   "metadata": {},
   "outputs": [
    {
     "name": "stdout",
     "output_type": "stream",
     "text": [
      "['White' 'Black' 'Other']\n"
     ]
    }
   ],
   "source": [
    "# Checking for unique values in the \"Race\" feature\n",
    "\n",
    "races = Mort_pred['Race'].unique()\n",
    "print(races)"
   ]
  },
  {
   "cell_type": "code",
   "execution_count": 185,
   "id": "2597f005-f199-47ff-84d0-3d83267dd886",
   "metadata": {},
   "outputs": [
    {
     "name": "stdout",
     "output_type": "stream",
     "text": [
      "[11.  9. 10. 12.  6. 16.  7. 15.  3.  4.  2. 13. 14.  8.  5.  1. nan]\n"
     ]
    }
   ],
   "source": [
    "# Checking for unique values in the \"Occupation\" feature\n",
    "\n",
    "jobs = Mort_pred['Occupation Code'].unique()\n",
    "print(jobs)"
   ]
  },
  {
   "cell_type": "code",
   "execution_count": 186,
   "id": "f7fa7a1e-bfa7-48df-9164-e02b85e3ce34",
   "metadata": {},
   "outputs": [
    {
     "name": "stdout",
     "output_type": "stream",
     "text": [
      "[1 0]\n"
     ]
    }
   ],
   "source": [
    "# Checking for a female's adoption status\n",
    "\n",
    "family = Mort_pred['Adopted Status'].unique()\n",
    "print(family)"
   ]
  },
  {
   "cell_type": "code",
   "execution_count": 187,
   "id": "46046484-2da6-4771-9c6c-292f012d27cc",
   "metadata": {},
   "outputs": [
    {
     "name": "stdout",
     "output_type": "stream",
     "text": [
      "['IIA' 'IIIA' 'IIIC' 'IIB' 'IIIB']\n"
     ]
    }
   ],
   "source": [
    "# Checking the values for the \"6th stage\" of the BI-RADs feature\n",
    "\n",
    "BIRADS = Mort_pred['6th Stage'].unique()\n",
    "print(BIRADS)"
   ]
  },
  {
   "cell_type": "code",
   "execution_count": 188,
   "id": "f3135037-dcfa-4208-9656-06b679e67167",
   "metadata": {},
   "outputs": [
    {
     "name": "stdout",
     "output_type": "stream",
     "text": [
      "['Poorly differentiated' 'Moderately differentiated' 'Well differentiated'\n",
      " 'Undifferentiated']\n"
     ]
    }
   ],
   "source": [
    "# Checking for unique values for the \"Differentiated\" feature\n",
    "\n",
    "Differentiated = Mort_pred['differentiate'].unique()\n",
    "print(Differentiated)"
   ]
  },
  {
   "cell_type": "code",
   "execution_count": 189,
   "id": "38afaf6f-218f-4608-bdb1-2ef9923b806d",
   "metadata": {},
   "outputs": [
    {
     "name": "stdout",
     "output_type": "stream",
     "text": [
      "[3 2 1 4]\n"
     ]
    }
   ],
   "source": [
    "# Checking for unique values in the \"Grade\" feature\n",
    "\n",
    "grades = Mort_pred['Grade'].unique()\n",
    "print(grades)"
   ]
  },
  {
   "cell_type": "markdown",
   "id": "84677df3-1fac-4501-9e7d-ee3788962375",
   "metadata": {},
   "source": [
    "### Dropping the unnecessary features before building the model"
   ]
  },
  {
   "cell_type": "code",
   "execution_count": 191,
   "id": "1f9292fc-dbf1-4bcd-bec1-1219ab8a78c1",
   "metadata": {},
   "outputs": [],
   "source": [
    "# Making a copy of the data set\n",
    "Mort_prediction = Mort_pred\n",
    "# Note: We will be working on the copy of the data set henceforth"
   ]
  },
  {
   "cell_type": "code",
   "execution_count": 192,
   "id": "862f49cd-9b2e-4bfe-a994-67ff7ff725c0",
   "metadata": {},
   "outputs": [
    {
     "data": {
      "text/html": [
       "<div>\n",
       "<style scoped>\n",
       "    .dataframe tbody tr th:only-of-type {\n",
       "        vertical-align: middle;\n",
       "    }\n",
       "\n",
       "    .dataframe tbody tr th {\n",
       "        vertical-align: top;\n",
       "    }\n",
       "\n",
       "    .dataframe thead th {\n",
       "        text-align: right;\n",
       "    }\n",
       "</style>\n",
       "<table border=\"1\" class=\"dataframe\">\n",
       "  <thead>\n",
       "    <tr style=\"text-align: right;\">\n",
       "      <th></th>\n",
       "      <th>Patient ID</th>\n",
       "      <th>Month of Birth</th>\n",
       "      <th>Age</th>\n",
       "      <th>Sex</th>\n",
       "      <th>Race</th>\n",
       "      <th>Marital Status</th>\n",
       "      <th>Occupation Code</th>\n",
       "      <th>Adopted Status</th>\n",
       "      <th>T Stage</th>\n",
       "      <th>N Stage</th>\n",
       "      <th>...</th>\n",
       "      <th>differentiate</th>\n",
       "      <th>Grade</th>\n",
       "      <th>A Stage</th>\n",
       "      <th>Tumor Size</th>\n",
       "      <th>Estrogen Status</th>\n",
       "      <th>Progesterone Status</th>\n",
       "      <th>Regional Node Examined</th>\n",
       "      <th>Reginol Node Positive</th>\n",
       "      <th>Survival Months</th>\n",
       "      <th>Mortality_Status</th>\n",
       "    </tr>\n",
       "  </thead>\n",
       "  <tbody>\n",
       "    <tr>\n",
       "      <th>0</th>\n",
       "      <td>A0012</td>\n",
       "      <td>12</td>\n",
       "      <td>68.0</td>\n",
       "      <td>Female</td>\n",
       "      <td>White</td>\n",
       "      <td>Married</td>\n",
       "      <td>11.0</td>\n",
       "      <td>1</td>\n",
       "      <td>T1</td>\n",
       "      <td>N1</td>\n",
       "      <td>...</td>\n",
       "      <td>Poorly differentiated</td>\n",
       "      <td>3</td>\n",
       "      <td>Regional</td>\n",
       "      <td>4.0</td>\n",
       "      <td>Positive</td>\n",
       "      <td>Positive</td>\n",
       "      <td>24</td>\n",
       "      <td>1</td>\n",
       "      <td>60</td>\n",
       "      <td>Alive</td>\n",
       "    </tr>\n",
       "    <tr>\n",
       "      <th>1</th>\n",
       "      <td>A0013</td>\n",
       "      <td>12</td>\n",
       "      <td>50.0</td>\n",
       "      <td>Female</td>\n",
       "      <td>White</td>\n",
       "      <td>Married</td>\n",
       "      <td>11.0</td>\n",
       "      <td>0</td>\n",
       "      <td>T2</td>\n",
       "      <td>N2</td>\n",
       "      <td>...</td>\n",
       "      <td>Moderately differentiated</td>\n",
       "      <td>2</td>\n",
       "      <td>Regional</td>\n",
       "      <td>35.0</td>\n",
       "      <td>Positive</td>\n",
       "      <td>Positive</td>\n",
       "      <td>14</td>\n",
       "      <td>5</td>\n",
       "      <td>62</td>\n",
       "      <td>Alive</td>\n",
       "    </tr>\n",
       "    <tr>\n",
       "      <th>2</th>\n",
       "      <td>A0014</td>\n",
       "      <td>11</td>\n",
       "      <td>58.0</td>\n",
       "      <td>Female</td>\n",
       "      <td>White</td>\n",
       "      <td>Divorced</td>\n",
       "      <td>9.0</td>\n",
       "      <td>0</td>\n",
       "      <td>T3</td>\n",
       "      <td>N3</td>\n",
       "      <td>...</td>\n",
       "      <td>Moderately differentiated</td>\n",
       "      <td>2</td>\n",
       "      <td>Regional</td>\n",
       "      <td>63.0</td>\n",
       "      <td>Positive</td>\n",
       "      <td>Positive</td>\n",
       "      <td>14</td>\n",
       "      <td>7</td>\n",
       "      <td>75</td>\n",
       "      <td>Alive</td>\n",
       "    </tr>\n",
       "    <tr>\n",
       "      <th>3</th>\n",
       "      <td>A0015</td>\n",
       "      <td>3</td>\n",
       "      <td>58.0</td>\n",
       "      <td>Female</td>\n",
       "      <td>White</td>\n",
       "      <td>Married</td>\n",
       "      <td>10.0</td>\n",
       "      <td>0</td>\n",
       "      <td>T1</td>\n",
       "      <td>N1</td>\n",
       "      <td>...</td>\n",
       "      <td>Poorly differentiated</td>\n",
       "      <td>3</td>\n",
       "      <td>Regional</td>\n",
       "      <td>18.0</td>\n",
       "      <td>Positive</td>\n",
       "      <td>Positive</td>\n",
       "      <td>2</td>\n",
       "      <td>1</td>\n",
       "      <td>84</td>\n",
       "      <td>Alive</td>\n",
       "    </tr>\n",
       "    <tr>\n",
       "      <th>4</th>\n",
       "      <td>A0016</td>\n",
       "      <td>1</td>\n",
       "      <td>47.0</td>\n",
       "      <td>Female</td>\n",
       "      <td>White</td>\n",
       "      <td>Married</td>\n",
       "      <td>12.0</td>\n",
       "      <td>0</td>\n",
       "      <td>T2</td>\n",
       "      <td>N1</td>\n",
       "      <td>...</td>\n",
       "      <td>Poorly differentiated</td>\n",
       "      <td>3</td>\n",
       "      <td>Regional</td>\n",
       "      <td>41.0</td>\n",
       "      <td>Positive</td>\n",
       "      <td>Positive</td>\n",
       "      <td>3</td>\n",
       "      <td>1</td>\n",
       "      <td>50</td>\n",
       "      <td>Alive</td>\n",
       "    </tr>\n",
       "  </tbody>\n",
       "</table>\n",
       "<p>5 rows × 21 columns</p>\n",
       "</div>"
      ],
      "text/plain": [
       "  Patient ID  Month of Birth   Age     Sex   Race Marital Status  \\\n",
       "0      A0012              12  68.0  Female  White        Married   \n",
       "1      A0013              12  50.0  Female  White        Married   \n",
       "2      A0014              11  58.0  Female  White       Divorced   \n",
       "3      A0015               3  58.0  Female  White        Married   \n",
       "4      A0016               1  47.0  Female  White        Married   \n",
       "\n",
       "   Occupation Code  Adopted Status T Stage  N Stage  ...  \\\n",
       "0             11.0               1       T1      N1  ...   \n",
       "1             11.0               0       T2      N2  ...   \n",
       "2              9.0               0       T3      N3  ...   \n",
       "3             10.0               0       T1      N1  ...   \n",
       "4             12.0               0       T2      N1  ...   \n",
       "\n",
       "               differentiate Grade   A Stage Tumor Size  Estrogen Status  \\\n",
       "0      Poorly differentiated     3  Regional        4.0         Positive   \n",
       "1  Moderately differentiated     2  Regional       35.0         Positive   \n",
       "2  Moderately differentiated     2  Regional       63.0         Positive   \n",
       "3      Poorly differentiated     3  Regional       18.0         Positive   \n",
       "4      Poorly differentiated     3  Regional       41.0         Positive   \n",
       "\n",
       "  Progesterone Status Regional Node Examined Reginol Node Positive  \\\n",
       "0            Positive                     24                     1   \n",
       "1            Positive                     14                     5   \n",
       "2            Positive                     14                     7   \n",
       "3            Positive                      2                     1   \n",
       "4            Positive                      3                     1   \n",
       "\n",
       "  Survival Months  Mortality_Status  \n",
       "0              60             Alive  \n",
       "1              62             Alive  \n",
       "2              75             Alive  \n",
       "3              84             Alive  \n",
       "4              50             Alive  \n",
       "\n",
       "[5 rows x 21 columns]"
      ]
     },
     "execution_count": 192,
     "metadata": {},
     "output_type": "execute_result"
    }
   ],
   "source": [
    "# Renaming the column names to fix further inconsistencies\n",
    "\n",
    "Mort_prediction.rename(columns={'Moth of Birth': 'Month of Birth'}, inplace=True)\n",
    "Mort_prediction.rename(columns={'Patient ID ': 'Patient ID'}, inplace=True)\n",
    "Mort_prediction.head()"
   ]
  },
  {
   "cell_type": "code",
   "execution_count": 193,
   "id": "c7a3f755-9493-40cf-a449-f554d2f44ba6",
   "metadata": {},
   "outputs": [],
   "source": [
    "# Creating an array of all the columns to be dropped\n",
    "columns_to_be_dropped = ['Patient ID','Month of Birth','Sex','Occupation Code','Survival Months']\n",
    "\n",
    "# Removing the features from the data set\n",
    "Mort_prediction = Mort_prediction.drop(columns=columns_to_be_dropped)"
   ]
  },
  {
   "cell_type": "code",
   "execution_count": 194,
   "id": "7906e369-7562-4511-bb2d-6aabb5ed8d48",
   "metadata": {},
   "outputs": [
    {
     "name": "stdout",
     "output_type": "stream",
     "text": [
      "Index(['Age', 'Race', 'Marital Status', 'Adopted Status', 'T Stage ',\n",
      "       'N Stage', '6th Stage', 'differentiate', 'Grade', 'A Stage',\n",
      "       'Tumor Size', 'Estrogen Status', 'Progesterone Status',\n",
      "       'Regional Node Examined', 'Reginol Node Positive', 'Mortality_Status'],\n",
      "      dtype='object')\n"
     ]
    }
   ],
   "source": [
    "# Checking column names from the data set\n",
    "\n",
    "print(Mort_prediction.columns)"
   ]
  },
  {
   "cell_type": "markdown",
   "id": "a673d087-2f32-4ee0-8d6c-c290058c7b1b",
   "metadata": {},
   "source": [
    "### Generating more information about the given Data set (Task (2))"
   ]
  },
  {
   "cell_type": "code",
   "execution_count": 196,
   "id": "ac740180-2231-4440-8fdc-a48621bef76b",
   "metadata": {},
   "outputs": [
    {
     "data": {
      "text/html": [
       "<div>\n",
       "<style scoped>\n",
       "    .dataframe tbody tr th:only-of-type {\n",
       "        vertical-align: middle;\n",
       "    }\n",
       "\n",
       "    .dataframe tbody tr th {\n",
       "        vertical-align: top;\n",
       "    }\n",
       "\n",
       "    .dataframe thead th {\n",
       "        text-align: right;\n",
       "    }\n",
       "</style>\n",
       "<table border=\"1\" class=\"dataframe\">\n",
       "  <thead>\n",
       "    <tr style=\"text-align: right;\">\n",
       "      <th></th>\n",
       "      <th>Age</th>\n",
       "      <th>Adopted Status</th>\n",
       "      <th>Grade</th>\n",
       "      <th>Tumor Size</th>\n",
       "    </tr>\n",
       "  </thead>\n",
       "  <tbody>\n",
       "    <tr>\n",
       "      <th>count</th>\n",
       "      <td>4015.000000</td>\n",
       "      <td>4024.000000</td>\n",
       "      <td>4024.000000</td>\n",
       "      <td>4021.000000</td>\n",
       "    </tr>\n",
       "    <tr>\n",
       "      <th>mean</th>\n",
       "      <td>54.094396</td>\n",
       "      <td>0.496769</td>\n",
       "      <td>2.150596</td>\n",
       "      <td>30.419299</td>\n",
       "    </tr>\n",
       "    <tr>\n",
       "      <th>std</th>\n",
       "      <td>11.417118</td>\n",
       "      <td>0.500052</td>\n",
       "      <td>0.638234</td>\n",
       "      <td>21.161080</td>\n",
       "    </tr>\n",
       "    <tr>\n",
       "      <th>min</th>\n",
       "      <td>30.000000</td>\n",
       "      <td>0.000000</td>\n",
       "      <td>1.000000</td>\n",
       "      <td>-75.000000</td>\n",
       "    </tr>\n",
       "    <tr>\n",
       "      <th>25%</th>\n",
       "      <td>47.000000</td>\n",
       "      <td>0.000000</td>\n",
       "      <td>2.000000</td>\n",
       "      <td>16.000000</td>\n",
       "    </tr>\n",
       "    <tr>\n",
       "      <th>50%</th>\n",
       "      <td>54.000000</td>\n",
       "      <td>0.000000</td>\n",
       "      <td>2.000000</td>\n",
       "      <td>25.000000</td>\n",
       "    </tr>\n",
       "    <tr>\n",
       "      <th>75%</th>\n",
       "      <td>61.000000</td>\n",
       "      <td>1.000000</td>\n",
       "      <td>3.000000</td>\n",
       "      <td>38.000000</td>\n",
       "    </tr>\n",
       "    <tr>\n",
       "      <th>max</th>\n",
       "      <td>502.000000</td>\n",
       "      <td>1.000000</td>\n",
       "      <td>4.000000</td>\n",
       "      <td>140.000000</td>\n",
       "    </tr>\n",
       "  </tbody>\n",
       "</table>\n",
       "</div>"
      ],
      "text/plain": [
       "               Age  Adopted Status        Grade   Tumor Size\n",
       "count  4015.000000     4024.000000  4024.000000  4021.000000\n",
       "mean     54.094396        0.496769     2.150596    30.419299\n",
       "std      11.417118        0.500052     0.638234    21.161080\n",
       "min      30.000000        0.000000     1.000000   -75.000000\n",
       "25%      47.000000        0.000000     2.000000    16.000000\n",
       "50%      54.000000        0.000000     2.000000    25.000000\n",
       "75%      61.000000        1.000000     3.000000    38.000000\n",
       "max     502.000000        1.000000     4.000000   140.000000"
      ]
     },
     "execution_count": 196,
     "metadata": {},
     "output_type": "execute_result"
    }
   ],
   "source": [
    "# Gathering numerical data from the data set\n",
    "\n",
    "Mort_prediction.describe()"
   ]
  },
  {
   "cell_type": "code",
   "execution_count": 197,
   "id": "d5df2e38-0078-41a3-ac99-a1fe7206dc3b",
   "metadata": {},
   "outputs": [
    {
     "name": "stdout",
     "output_type": "stream",
     "text": [
      "<class 'pandas.core.frame.DataFrame'>\n",
      "RangeIndex: 4024 entries, 0 to 4023\n",
      "Data columns (total 16 columns):\n",
      " #   Column                  Non-Null Count  Dtype  \n",
      "---  ------                  --------------  -----  \n",
      " 0   Age                     4015 non-null   float64\n",
      " 1   Race                    4024 non-null   object \n",
      " 2   Marital Status          4024 non-null   object \n",
      " 3   Adopted Status          4024 non-null   int64  \n",
      " 4   T Stage                 4024 non-null   object \n",
      " 5   N Stage                 4024 non-null   object \n",
      " 6   6th Stage               4024 non-null   object \n",
      " 7   differentiate           4024 non-null   object \n",
      " 8   Grade                   4024 non-null   int64  \n",
      " 9   A Stage                 4024 non-null   object \n",
      " 10  Tumor Size              4021 non-null   float64\n",
      " 11  Estrogen Status         4024 non-null   object \n",
      " 12  Progesterone Status     4024 non-null   object \n",
      " 13  Regional Node Examined  4023 non-null   object \n",
      " 14  Reginol Node Positive   4024 non-null   object \n",
      " 15  Mortality_Status        4020 non-null   object \n",
      "dtypes: float64(2), int64(2), object(12)\n",
      "memory usage: 503.1+ KB\n"
     ]
    }
   ],
   "source": [
    "# Finding out more information about the dataset like its column names, no. of observations and data types\n",
    "\n",
    "Mort_prediction.info()"
   ]
  },
  {
   "cell_type": "markdown",
   "id": "4e96e4bb-163b-4809-8ea6-4ea5cb8f6296",
   "metadata": {},
   "source": [
    "### Generating a basic statistical distribution of the target variable \"Mortality Status\""
   ]
  },
  {
   "cell_type": "code",
   "execution_count": 199,
   "id": "52c743aa-5a3b-4f00-9f84-1e7e4745b2dc",
   "metadata": {},
   "outputs": [],
   "source": [
    "# Fixing inconsistencies with the observations for the target variable \"Mortality Status\"\n",
    "\n",
    "# Standardizing the text data with the first letter capitalized\n",
    "Mort_prediction['Mortality_Status'] = Mort_prediction['Mortality_Status'].str.strip().str.title()"
   ]
  },
  {
   "cell_type": "code",
   "execution_count": 200,
   "id": "a48d6b99-b7b9-44fc-b813-8494fa4a4e82",
   "metadata": {},
   "outputs": [
    {
     "data": {
      "image/png": "[encoded data removed]",
      "text/plain": [
       "<Figure size 600x400 with 1 Axes>"
      ]
     },
     "metadata": {},
     "output_type": "display_data"
    }
   ],
   "source": [
    "# Generating a histogram to show the distribution of Target feature using the \"Seaborn\" library\n",
    "\n",
    "plt.figure(figsize=(6, 4))\n",
    "sns.countplot(x='Mortality_Status', data=Mort_prediction, palette='colorblind')\n",
    "\n",
    "# Adding title and labels\n",
    "plt.title('Distribution of Mortality Status (Dead/Alive)', fontsize=14)\n",
    "plt.xlabel('Mortality Status', fontsize=12)\n",
    "plt.ylabel('Count', fontsize=12)\n",
    "plt.grid(axis='y')\n",
    "plt.show()"
   ]
  },
  {
   "cell_type": "markdown",
   "id": "602b2365-6eae-487d-b108-e48af4f94a51",
   "metadata": {},
   "source": [
    "### Task (3) - Data Preparation"
   ]
  },
  {
   "cell_type": "markdown",
   "id": "fceef6e7-5d18-4c67-9a7e-1e85bbe68f19",
   "metadata": {},
   "source": [
    "#### Handling Missing Values"
   ]
  },
  {
   "cell_type": "code",
   "execution_count": 203,
   "id": "bb7c8a2c-07f5-47fa-ac63-2a6d898d9b57",
   "metadata": {},
   "outputs": [
    {
     "data": {
      "text/plain": [
       "Age                       9\n",
       "Race                      0\n",
       "Marital Status            0\n",
       "Adopted Status            0\n",
       "T Stage                   0\n",
       "N Stage                   0\n",
       "6th Stage                 0\n",
       "differentiate             0\n",
       "Grade                     0\n",
       "A Stage                   0\n",
       "Tumor Size                3\n",
       "Estrogen Status           0\n",
       "Progesterone Status       0\n",
       "Regional Node Examined    1\n",
       "Reginol Node Positive     0\n",
       "Mortality_Status          4\n",
       "dtype: int64"
      ]
     },
     "execution_count": 203,
     "metadata": {},
     "output_type": "execute_result"
    }
   ],
   "source": [
    "# Checking the data for any missing values\n",
    "\n",
    "missing_values = Mort_prediction.isnull().sum()\n",
    "missing_values"
   ]
  },
  {
   "cell_type": "code",
   "execution_count": 204,
   "id": "3f86e7cf-0f6f-46f4-92d6-71573a9c62c1",
   "metadata": {},
   "outputs": [
    {
     "data": {
      "text/plain": [
       "Age                       0.223658\n",
       "Race                      0.000000\n",
       "Marital Status            0.000000\n",
       "Adopted Status            0.000000\n",
       "T Stage                   0.000000\n",
       "N Stage                   0.000000\n",
       "6th Stage                 0.000000\n",
       "differentiate             0.000000\n",
       "Grade                     0.000000\n",
       "A Stage                   0.000000\n",
       "Tumor Size                0.074553\n",
       "Estrogen Status           0.000000\n",
       "Progesterone Status       0.000000\n",
       "Regional Node Examined    0.024851\n",
       "Reginol Node Positive     0.000000\n",
       "Mortality_Status          0.099404\n",
       "dtype: float64"
      ]
     },
     "execution_count": 204,
     "metadata": {},
     "output_type": "execute_result"
    }
   ],
   "source": [
    "# finding out the percentage of missing data in each column\n",
    "\n",
    "missing_values_percentage = (missing_values / len(Mort_prediction)) * 100\n",
    "missing_values_percentage"
   ]
  },
  {
   "cell_type": "code",
   "execution_count": 205,
   "id": "d00b4fff-a354-4209-96eb-f269ba7b1e7d",
   "metadata": {},
   "outputs": [],
   "source": [
    "# Handling missing data in \"Age\" column using Median imputation\n",
    "\n",
    "from sklearn.impute import SimpleImputer\n",
    "\n",
    "# Performing Median imputation\n",
    "columns_to_impute_median = ['Age', 'Tumor Size']\n",
    "\n",
    "# Initializing SimpleImputer using 'median'\n",
    "imputer = SimpleImputer(strategy='median')\n",
    "\n",
    "# Transforming only the \"Age\" and \"Tumor Size\" columns\n",
    "Mort_prediction[columns_to_impute_median] = imputer.fit_transform(Mort_prediction[columns_to_impute_median])"
   ]
  },
  {
   "cell_type": "code",
   "execution_count": 206,
   "id": "1a68752f-4b90-484d-8a4f-743346a1c3a9",
   "metadata": {
    "scrolled": true
   },
   "outputs": [
    {
     "data": {
      "text/plain": [
       "Age                       0.000000\n",
       "Race                      0.000000\n",
       "Marital Status            0.000000\n",
       "Adopted Status            0.000000\n",
       "T Stage                   0.000000\n",
       "N Stage                   0.000000\n",
       "6th Stage                 0.000000\n",
       "differentiate             0.000000\n",
       "Grade                     0.000000\n",
       "A Stage                   0.000000\n",
       "Tumor Size                0.000000\n",
       "Estrogen Status           0.000000\n",
       "Progesterone Status       0.000000\n",
       "Regional Node Examined    0.024851\n",
       "Reginol Node Positive     0.000000\n",
       "Mortality_Status          0.099404\n",
       "dtype: float64"
      ]
     },
     "execution_count": 206,
     "metadata": {},
     "output_type": "execute_result"
    }
   ],
   "source": [
    "# Checking for the NaN values post-imputation\n",
    "missing_values = Mort_prediction.isnull().sum()\n",
    "missing_values_percentage = (missing_values / len(Mort_prediction)) * 100\n",
    "missing_values_percentage"
   ]
  },
  {
   "cell_type": "code",
   "execution_count": 207,
   "id": "b230efdd-25d4-48d4-a64f-addc611e5dac",
   "metadata": {},
   "outputs": [
    {
     "name": "stdout",
     "output_type": "stream",
     "text": [
      "<class 'pandas.core.frame.DataFrame'>\n",
      "RangeIndex: 4024 entries, 0 to 4023\n",
      "Data columns (total 16 columns):\n",
      " #   Column                  Non-Null Count  Dtype  \n",
      "---  ------                  --------------  -----  \n",
      " 0   Age                     4024 non-null   float64\n",
      " 1   Race                    4024 non-null   object \n",
      " 2   Marital Status          4024 non-null   object \n",
      " 3   Adopted Status          4024 non-null   int64  \n",
      " 4   T Stage                 4024 non-null   object \n",
      " 5   N Stage                 4024 non-null   object \n",
      " 6   6th Stage               4024 non-null   object \n",
      " 7   differentiate           4024 non-null   object \n",
      " 8   Grade                   4024 non-null   int64  \n",
      " 9   A Stage                 4024 non-null   object \n",
      " 10  Tumor Size              4024 non-null   float64\n",
      " 11  Estrogen Status         4024 non-null   object \n",
      " 12  Progesterone Status     4024 non-null   object \n",
      " 13  Regional Node Examined  4022 non-null   float64\n",
      " 14  Reginol Node Positive   4024 non-null   object \n",
      " 15  Mortality_Status        4020 non-null   object \n",
      "dtypes: float64(3), int64(2), object(11)\n",
      "memory usage: 503.1+ KB\n"
     ]
    }
   ],
   "source": [
    "# Converting the \"Regional Node Examined\" feature from Object to Numeric to fix further inconsistencies\n",
    "\n",
    "Mort_prediction['Regional Node Examined'] = pd.to_numeric(Mort_prediction['Regional Node Examined'], errors='coerce')\n",
    "Mort_prediction.info()           # To check data types after conversion"
   ]
  },
  {
   "cell_type": "code",
   "execution_count": 208,
   "id": "b41fecbe-2424-485a-ac62-ea1eac233eac",
   "metadata": {},
   "outputs": [
    {
     "data": {
      "text/plain": [
       "Age                       0.000000\n",
       "Race                      0.000000\n",
       "Marital Status            0.000000\n",
       "Adopted Status            0.000000\n",
       "T Stage                   0.000000\n",
       "N Stage                   0.000000\n",
       "6th Stage                 0.000000\n",
       "differentiate             0.000000\n",
       "Grade                     0.000000\n",
       "A Stage                   0.000000\n",
       "Tumor Size                0.000000\n",
       "Estrogen Status           0.000000\n",
       "Progesterone Status       0.000000\n",
       "Regional Node Examined    0.049702\n",
       "Reginol Node Positive     0.000000\n",
       "Mortality_Status          0.099404\n",
       "dtype: float64"
      ]
     },
     "execution_count": 208,
     "metadata": {},
     "output_type": "execute_result"
    }
   ],
   "source": [
    "# Checking for NaN values after type conversion to ensure that more NaN hasn't been imputed\n",
    "\n",
    "missing_values = Mort_prediction.isnull().sum()\n",
    "missing_values_percentage = (missing_values / len(Mort_prediction)) * 100\n",
    "missing_values_percentage"
   ]
  },
  {
   "cell_type": "markdown",
   "id": "261edac1-a667-4c29-8fd3-2cd04233db90",
   "metadata": {},
   "source": [
    "The percentage of missing values has gone up by around 3%, hence there were inconsistencies in the feature. Now we fill the missing data using simple imputation methods"
   ]
  },
  {
   "cell_type": "code",
   "execution_count": 210,
   "id": "836b0f1c-cf6d-48c1-a413-7af2999dbb19",
   "metadata": {},
   "outputs": [],
   "source": [
    "# Handling missing data in the \"Regional Node Examined\" feature using Mean imputation\n",
    "\n",
    "from sklearn.impute import SimpleImputer\n",
    "\n",
    "# Performing Median imputation\n",
    "columns_to_impute_mean = ['Regional Node Examined']\n",
    "\n",
    "# Initializing SimpleImputer using 'mean'\n",
    "imputer = SimpleImputer(strategy='mean')\n",
    "\n",
    "# Transforming only the \"Regional Node Examined\" column\n",
    "Mort_prediction[columns_to_impute_mean] = imputer.fit_transform(Mort_prediction[columns_to_impute_mean])"
   ]
  },
  {
   "cell_type": "code",
   "execution_count": 211,
   "id": "0790bf45-1e61-4d98-b6ec-71849d5a0f0a",
   "metadata": {},
   "outputs": [
    {
     "data": {
      "text/plain": [
       "Age                       0.000000\n",
       "Race                      0.000000\n",
       "Marital Status            0.000000\n",
       "Adopted Status            0.000000\n",
       "T Stage                   0.000000\n",
       "N Stage                   0.000000\n",
       "6th Stage                 0.000000\n",
       "differentiate             0.000000\n",
       "Grade                     0.000000\n",
       "A Stage                   0.000000\n",
       "Tumor Size                0.000000\n",
       "Estrogen Status           0.000000\n",
       "Progesterone Status       0.000000\n",
       "Regional Node Examined    0.000000\n",
       "Reginol Node Positive     0.000000\n",
       "Mortality_Status          0.099404\n",
       "dtype: float64"
      ]
     },
     "execution_count": 211,
     "metadata": {},
     "output_type": "execute_result"
    }
   ],
   "source": [
    "# Checking for NaN values post-imputation\n",
    "missing_values = Mort_prediction.isnull().sum()\n",
    "missing_values_percentage = (missing_values / len(Mort_prediction)) * 100\n",
    "missing_values_percentage"
   ]
  },
  {
   "cell_type": "code",
   "execution_count": 212,
   "id": "c9c9471b-da1c-429d-828e-92380a33bfbe",
   "metadata": {},
   "outputs": [],
   "source": [
    "# Handling Missing data in the target variable \"Mortality_Status\" using Mode imputation\n",
    "\n",
    "# Calculate mode of the 'Mortality_Status' column\n",
    "mode_value = Mort_prediction['Mortality_Status'].mode()[0]  # .mode() returns a Series, [0] to get the first mode\n",
    "\n",
    "# Applying modal imputation only to the \"Mortality_Status\" column\n",
    "Mort_prediction['Mortality_Status'].fillna(mode_value, inplace = True)"
   ]
  },
  {
   "cell_type": "code",
   "execution_count": 213,
   "id": "46d40cc9-709e-424f-ba0a-251b3178f031",
   "metadata": {},
   "outputs": [
    {
     "data": {
      "text/plain": [
       "Age                       0.0\n",
       "Race                      0.0\n",
       "Marital Status            0.0\n",
       "Adopted Status            0.0\n",
       "T Stage                   0.0\n",
       "N Stage                   0.0\n",
       "6th Stage                 0.0\n",
       "differentiate             0.0\n",
       "Grade                     0.0\n",
       "A Stage                   0.0\n",
       "Tumor Size                0.0\n",
       "Estrogen Status           0.0\n",
       "Progesterone Status       0.0\n",
       "Regional Node Examined    0.0\n",
       "Reginol Node Positive     0.0\n",
       "Mortality_Status          0.0\n",
       "dtype: float64"
      ]
     },
     "execution_count": 213,
     "metadata": {},
     "output_type": "execute_result"
    }
   ],
   "source": [
    "# Checking for NaN values post-imputation\n",
    "missing_values = Mort_prediction.isnull().sum()\n",
    "missing_values_percentage = (missing_values / len(Mort_prediction)) * 100\n",
    "missing_values_percentage"
   ]
  },
  {
   "cell_type": "code",
   "execution_count": 214,
   "id": "bba7642e-450d-4fb6-9a6c-3d4b76a99fd2",
   "metadata": {},
   "outputs": [
    {
     "data": {
      "text/html": [
       "<div>\n",
       "<style scoped>\n",
       "    .dataframe tbody tr th:only-of-type {\n",
       "        vertical-align: middle;\n",
       "    }\n",
       "\n",
       "    .dataframe tbody tr th {\n",
       "        vertical-align: top;\n",
       "    }\n",
       "\n",
       "    .dataframe thead th {\n",
       "        text-align: right;\n",
       "    }\n",
       "</style>\n",
       "<table border=\"1\" class=\"dataframe\">\n",
       "  <thead>\n",
       "    <tr style=\"text-align: right;\">\n",
       "      <th></th>\n",
       "      <th>Age</th>\n",
       "      <th>Race</th>\n",
       "      <th>Marital Status</th>\n",
       "      <th>Adopted Status</th>\n",
       "      <th>T Stage</th>\n",
       "      <th>N Stage</th>\n",
       "      <th>6th Stage</th>\n",
       "      <th>differentiate</th>\n",
       "      <th>Grade</th>\n",
       "      <th>A Stage</th>\n",
       "      <th>Tumor Size</th>\n",
       "      <th>Estrogen Status</th>\n",
       "      <th>Progesterone Status</th>\n",
       "      <th>Regional Node Examined</th>\n",
       "      <th>Reginol Node Positive</th>\n",
       "      <th>Mortality_Status</th>\n",
       "    </tr>\n",
       "  </thead>\n",
       "  <tbody>\n",
       "    <tr>\n",
       "      <th>0</th>\n",
       "      <td>68.0</td>\n",
       "      <td>White</td>\n",
       "      <td>Married</td>\n",
       "      <td>1</td>\n",
       "      <td>T1</td>\n",
       "      <td>N1</td>\n",
       "      <td>IIA</td>\n",
       "      <td>Poorly differentiated</td>\n",
       "      <td>3</td>\n",
       "      <td>Regional</td>\n",
       "      <td>4.0</td>\n",
       "      <td>Positive</td>\n",
       "      <td>Positive</td>\n",
       "      <td>24.0</td>\n",
       "      <td>1</td>\n",
       "      <td>Alive</td>\n",
       "    </tr>\n",
       "    <tr>\n",
       "      <th>1</th>\n",
       "      <td>50.0</td>\n",
       "      <td>White</td>\n",
       "      <td>Married</td>\n",
       "      <td>0</td>\n",
       "      <td>T2</td>\n",
       "      <td>N2</td>\n",
       "      <td>IIIA</td>\n",
       "      <td>Moderately differentiated</td>\n",
       "      <td>2</td>\n",
       "      <td>Regional</td>\n",
       "      <td>35.0</td>\n",
       "      <td>Positive</td>\n",
       "      <td>Positive</td>\n",
       "      <td>14.0</td>\n",
       "      <td>5</td>\n",
       "      <td>Alive</td>\n",
       "    </tr>\n",
       "    <tr>\n",
       "      <th>2</th>\n",
       "      <td>58.0</td>\n",
       "      <td>White</td>\n",
       "      <td>Divorced</td>\n",
       "      <td>0</td>\n",
       "      <td>T3</td>\n",
       "      <td>N3</td>\n",
       "      <td>IIIC</td>\n",
       "      <td>Moderately differentiated</td>\n",
       "      <td>2</td>\n",
       "      <td>Regional</td>\n",
       "      <td>63.0</td>\n",
       "      <td>Positive</td>\n",
       "      <td>Positive</td>\n",
       "      <td>14.0</td>\n",
       "      <td>7</td>\n",
       "      <td>Alive</td>\n",
       "    </tr>\n",
       "    <tr>\n",
       "      <th>3</th>\n",
       "      <td>58.0</td>\n",
       "      <td>White</td>\n",
       "      <td>Married</td>\n",
       "      <td>0</td>\n",
       "      <td>T1</td>\n",
       "      <td>N1</td>\n",
       "      <td>IIA</td>\n",
       "      <td>Poorly differentiated</td>\n",
       "      <td>3</td>\n",
       "      <td>Regional</td>\n",
       "      <td>18.0</td>\n",
       "      <td>Positive</td>\n",
       "      <td>Positive</td>\n",
       "      <td>2.0</td>\n",
       "      <td>1</td>\n",
       "      <td>Alive</td>\n",
       "    </tr>\n",
       "    <tr>\n",
       "      <th>4</th>\n",
       "      <td>47.0</td>\n",
       "      <td>White</td>\n",
       "      <td>Married</td>\n",
       "      <td>0</td>\n",
       "      <td>T2</td>\n",
       "      <td>N1</td>\n",
       "      <td>IIB</td>\n",
       "      <td>Poorly differentiated</td>\n",
       "      <td>3</td>\n",
       "      <td>Regional</td>\n",
       "      <td>41.0</td>\n",
       "      <td>Positive</td>\n",
       "      <td>Positive</td>\n",
       "      <td>3.0</td>\n",
       "      <td>1</td>\n",
       "      <td>Alive</td>\n",
       "    </tr>\n",
       "  </tbody>\n",
       "</table>\n",
       "</div>"
      ],
      "text/plain": [
       "    Age   Race Marital Status  Adopted Status T Stage  N Stage 6th Stage  \\\n",
       "0  68.0  White        Married               1       T1      N1       IIA   \n",
       "1  50.0  White        Married               0       T2      N2      IIIA   \n",
       "2  58.0  White       Divorced               0       T3      N3      IIIC   \n",
       "3  58.0  White        Married               0       T1      N1       IIA   \n",
       "4  47.0  White        Married               0       T2      N1       IIB   \n",
       "\n",
       "               differentiate  Grade   A Stage  Tumor Size Estrogen Status  \\\n",
       "0      Poorly differentiated      3  Regional         4.0        Positive   \n",
       "1  Moderately differentiated      2  Regional        35.0        Positive   \n",
       "2  Moderately differentiated      2  Regional        63.0        Positive   \n",
       "3      Poorly differentiated      3  Regional        18.0        Positive   \n",
       "4      Poorly differentiated      3  Regional        41.0        Positive   \n",
       "\n",
       "  Progesterone Status  Regional Node Examined Reginol Node Positive  \\\n",
       "0            Positive                    24.0                     1   \n",
       "1            Positive                    14.0                     5   \n",
       "2            Positive                    14.0                     7   \n",
       "3            Positive                     2.0                     1   \n",
       "4            Positive                     3.0                     1   \n",
       "\n",
       "  Mortality_Status  \n",
       "0            Alive  \n",
       "1            Alive  \n",
       "2            Alive  \n",
       "3            Alive  \n",
       "4            Alive  "
      ]
     },
     "execution_count": 214,
     "metadata": {},
     "output_type": "execute_result"
    }
   ],
   "source": [
    "# Viewing the data set\n",
    "\n",
    "Mort_prediction.head()"
   ]
  },
  {
   "cell_type": "markdown",
   "id": "3297f70b-e759-41d3-8ec0-f996ca775a3c",
   "metadata": {},
   "source": [
    "#### Handling outliers"
   ]
  },
  {
   "cell_type": "code",
   "execution_count": 216,
   "id": "a3fdbaa2-d4be-4eee-9e67-70c56bbe487d",
   "metadata": {},
   "outputs": [
    {
     "data": {
      "image/png": "[encoded data removed]",
      "text/plain": [
       "<Figure size 800x550 with 1 Axes>"
      ]
     },
     "metadata": {},
     "output_type": "display_data"
    }
   ],
   "source": [
    "# Checking for outliers using a boxplot\n",
    "\n",
    "sns.boxplot(data=Mort_prediction, x='Age')\n",
    "plt.title(\"Boxplot to Detect Outliers\")\n",
    "plt.show()"
   ]
  },
  {
   "cell_type": "code",
   "execution_count": 217,
   "id": "8b6f9550-539e-46a8-a3e8-13a70c378b46",
   "metadata": {},
   "outputs": [],
   "source": [
    "# Using Winsorizing / Capping method to cap the outliers within 3 standard deviations (99th percentiles)\n",
    "\n",
    "lower_cap = Mort_prediction['Age'].quantile(0.01)\n",
    "upper_cap = Mort_prediction['Age'].quantile(0.99)\n",
    "Mort_prediction['Age'] = np.clip(Mort_prediction['Age'], lower_cap, upper_cap)"
   ]
  },
  {
   "cell_type": "code",
   "execution_count": 218,
   "id": "401dc1d6-95e1-4ff8-b86d-91fc1c384088",
   "metadata": {},
   "outputs": [
    {
     "data": {
      "image/png": "[encoded data removed]",
      "text/plain": [
       "<Figure size 800x550 with 1 Axes>"
      ]
     },
     "metadata": {},
     "output_type": "display_data"
    }
   ],
   "source": [
    "# Checking for outliers using a boxplot\n",
    "\n",
    "sns.boxplot(data=Mort_prediction, x='Age')\n",
    "plt.title(\"Boxplot after treating Outliers\")\n",
    "plt.show()"
   ]
  },
  {
   "cell_type": "code",
   "execution_count": 219,
   "id": "534d8ed6-2e91-4453-a794-269821934e8c",
   "metadata": {},
   "outputs": [
    {
     "data": {
      "image/png": "[encoded data removed]",
      "text/plain": [
       "<Figure size 800x550 with 1 Axes>"
      ]
     },
     "metadata": {},
     "output_type": "display_data"
    }
   ],
   "source": [
    "# Checking for outliers using a boxplot\n",
    "\n",
    "sns.boxplot(data=Mort_prediction, x='Regional Node Examined')\n",
    "plt.title(\"Boxplot to Detect Outliers\")\n",
    "plt.show()"
   ]
  },
  {
   "cell_type": "code",
   "execution_count": 220,
   "id": "47793629-e9fd-4ea8-85d6-e6c5e50b03ea",
   "metadata": {},
   "outputs": [],
   "source": [
    "# Using Winsorizing / Capping method to cap the outliers within 2 standard deviations (95th percentile)\n",
    "\n",
    "lower_cap = Mort_prediction['Regional Node Examined'].quantile(0.01)\n",
    "upper_cap = Mort_prediction['Regional Node Examined'].quantile(0.95)\n",
    "Mort_prediction['Regional Node Examined'] = np.clip(Mort_prediction['Regional Node Examined'], lower_cap, upper_cap)"
   ]
  },
  {
   "cell_type": "code",
   "execution_count": 221,
   "id": "fcfa235a-32f9-4e28-8ea4-4d681afd1b8b",
   "metadata": {},
   "outputs": [
    {
     "data": {
      "image/png": "[encoded data removed]",
      "text/plain": [
       "<Figure size 800x550 with 1 Axes>"
      ]
     },
     "metadata": {},
     "output_type": "display_data"
    }
   ],
   "source": [
    "# Plotting a box plot to check outliers\n",
    "\n",
    "sns.boxplot(data=Mort_prediction, x='Regional Node Examined')\n",
    "plt.title(\"Boxplot After treating Outliers\")\n",
    "plt.show()"
   ]
  },
  {
   "cell_type": "code",
   "execution_count": 222,
   "id": "856a0bdd-ff44-4e25-bd86-8cd038f654c3",
   "metadata": {},
   "outputs": [
    {
     "name": "stdout",
     "output_type": "stream",
     "text": [
      "Index(['Age', 'Race', 'Marital Status', 'Adopted Status', 'T Stage ',\n",
      "       'N Stage', '6th Stage', 'differentiate', 'Grade', 'A Stage',\n",
      "       'Tumor Size', 'Estrogen Status', 'Progesterone Status',\n",
      "       'Regional Node Examined', 'Reginol Node Positive', 'Mortality_Status'],\n",
      "      dtype='object')\n"
     ]
    }
   ],
   "source": [
    "# Displaying the names of all columns\n",
    "\n",
    "print(Mort_prediction.columns)"
   ]
  },
  {
   "cell_type": "code",
   "execution_count": 223,
   "id": "981082b1-fa91-44a4-97b5-0ad88123814b",
   "metadata": {},
   "outputs": [],
   "source": [
    "# Renaming the column to fix inconsistencies\n",
    "\n",
    "Mort_prediction.rename(columns={'T Stage ': 'T Stage'}, inplace=True)\n",
    "Mort_prediction.rename(columns={'Reginol Node Positive': 'Regional Node Positive'}, inplace=True)"
   ]
  },
  {
   "cell_type": "code",
   "execution_count": 224,
   "id": "83be2352-8df5-4c8e-96dd-cb90b3cb1abf",
   "metadata": {},
   "outputs": [
    {
     "data": {
      "text/plain": [
       "Race\n",
       "White    3413\n",
       "Other     320\n",
       "Black     291\n",
       "Name: count, dtype: int64"
      ]
     },
     "execution_count": 224,
     "metadata": {},
     "output_type": "execute_result"
    }
   ],
   "source": [
    "# Finding out the amount of unique values in each categorical column\n",
    "\n",
    "Mort_prediction['Race'].value_counts()"
   ]
  },
  {
   "cell_type": "code",
   "execution_count": 225,
   "id": "a54c48b6-22ef-43a4-bfbb-3f08b70bb79b",
   "metadata": {},
   "outputs": [
    {
     "data": {
      "text/plain": [
       "Marital Status\n",
       "Married      2643\n",
       "Single        615\n",
       "Divorced      486\n",
       "Widowed       235\n",
       "Separated      45\n",
       "Name: count, dtype: int64"
      ]
     },
     "execution_count": 225,
     "metadata": {},
     "output_type": "execute_result"
    }
   ],
   "source": [
    "Mort_prediction['Marital Status'].value_counts()"
   ]
  },
  {
   "cell_type": "code",
   "execution_count": 226,
   "id": "4d9dd0d2-cdb1-4610-a95b-15c0ce48031e",
   "metadata": {},
   "outputs": [
    {
     "data": {
      "text/plain": [
       "Adopted Status\n",
       "0    2025\n",
       "1    1999\n",
       "Name: count, dtype: int64"
      ]
     },
     "execution_count": 226,
     "metadata": {},
     "output_type": "execute_result"
    }
   ],
   "source": [
    "Mort_prediction['Adopted Status'].value_counts()"
   ]
  },
  {
   "cell_type": "code",
   "execution_count": 227,
   "id": "f5dd0ce5-6b99-469d-aaba-ac0f89458a13",
   "metadata": {},
   "outputs": [
    {
     "data": {
      "text/plain": [
       "T Stage\n",
       "T2    1786\n",
       "T1    1603\n",
       "T3     533\n",
       "T4     102\n",
       "Name: count, dtype: int64"
      ]
     },
     "execution_count": 227,
     "metadata": {},
     "output_type": "execute_result"
    }
   ],
   "source": [
    "Mort_prediction['T Stage'].value_counts()"
   ]
  },
  {
   "cell_type": "code",
   "execution_count": 228,
   "id": "0f742a45-bbac-4eeb-8ac6-79580ef2a2cf",
   "metadata": {},
   "outputs": [
    {
     "data": {
      "text/plain": [
       "N Stage\n",
       "N1    2732\n",
       "N2     820\n",
       "N3     472\n",
       "Name: count, dtype: int64"
      ]
     },
     "execution_count": 228,
     "metadata": {},
     "output_type": "execute_result"
    }
   ],
   "source": [
    "Mort_prediction['N Stage'].value_counts()"
   ]
  },
  {
   "cell_type": "code",
   "execution_count": 229,
   "id": "58fd23c4-b4a1-47f0-b8af-0d2ebaaa4ffe",
   "metadata": {},
   "outputs": [
    {
     "data": {
      "text/plain": [
       "6th Stage\n",
       "IIA     1305\n",
       "IIB     1130\n",
       "IIIA    1050\n",
       "IIIC     472\n",
       "IIIB      67\n",
       "Name: count, dtype: int64"
      ]
     },
     "execution_count": 229,
     "metadata": {},
     "output_type": "execute_result"
    }
   ],
   "source": [
    "Mort_prediction['6th Stage'].value_counts()"
   ]
  },
  {
   "cell_type": "code",
   "execution_count": 230,
   "id": "e5dbcf5b-a3dd-4224-8244-a8f7270a0292",
   "metadata": {},
   "outputs": [
    {
     "data": {
      "text/plain": [
       "differentiate\n",
       "Moderately differentiated    2351\n",
       "Poorly differentiated        1111\n",
       "Well differentiated           543\n",
       "Undifferentiated               19\n",
       "Name: count, dtype: int64"
      ]
     },
     "execution_count": 230,
     "metadata": {},
     "output_type": "execute_result"
    }
   ],
   "source": [
    "Mort_prediction['differentiate'].value_counts()"
   ]
  },
  {
   "cell_type": "code",
   "execution_count": 231,
   "id": "a84b5acb-237f-4cd6-8882-2b6078b45719",
   "metadata": {},
   "outputs": [
    {
     "data": {
      "text/plain": [
       "Grade\n",
       "2    2351\n",
       "3    1111\n",
       "1     543\n",
       "4      19\n",
       "Name: count, dtype: int64"
      ]
     },
     "execution_count": 231,
     "metadata": {},
     "output_type": "execute_result"
    }
   ],
   "source": [
    "Mort_prediction['Grade'].value_counts()"
   ]
  },
  {
   "cell_type": "code",
   "execution_count": 232,
   "id": "6716c825-c37d-40d0-9e66-16967493b330",
   "metadata": {},
   "outputs": [
    {
     "data": {
      "image/png": "[encoded data removed]",
      "text/plain": [
       "<Figure size 800x550 with 1 Axes>"
      ]
     },
     "metadata": {},
     "output_type": "display_data"
    }
   ],
   "source": [
    "# Creating a boxplot to visualize outliers in the \"Tumour Size\" Feature\n",
    "\n",
    "sns.boxplot(data=Mort_prediction, x='Tumor Size')\n",
    "plt.title(\"Boxplot to Detect Outliers\")\n",
    "plt.show()"
   ]
  },
  {
   "cell_type": "code",
   "execution_count": 233,
   "id": "2defc1c8-44ac-4af0-9497-779193b79ea9",
   "metadata": {},
   "outputs": [
    {
     "data": {
      "text/plain": [
       "5.492047713717694"
      ]
     },
     "execution_count": 233,
     "metadata": {},
     "output_type": "execute_result"
    }
   ],
   "source": [
    "# Finding out the percentage of outliers in the Tumor Size feature\n",
    "\n",
    "Q1 = Mort_prediction['Tumor Size'].quantile(0.25)\n",
    "Q3 = Mort_prediction['Tumor Size'].quantile(0.75)\n",
    "IQR = Q3 - Q1\n",
    "lower_bound = Q1 - 1.5 * IQR\n",
    "upper_bound = Q3 + 1.5 * IQR\n",
    "outliers_tumor_size = Mort_prediction[(Mort_prediction['Tumor Size'] < lower_bound) | (Mort_prediction['Tumor Size'] > upper_bound)]\n",
    "\n",
    "outliers_tumor_size\n",
    "outliers_tumor_size_percentage = (len(outliers_tumor_size) / len(Mort_prediction))*100\n",
    "outliers_tumor_size_percentage"
   ]
  },
  {
   "cell_type": "code",
   "execution_count": 234,
   "id": "ce37056e-7b20-4f2b-829d-d81a254d4a9e",
   "metadata": {},
   "outputs": [],
   "source": [
    "# Dealing with outliers in the \"Tumor size\" feature\n",
    "# Calculating Z-scores\n",
    "mean = Mort_prediction['Tumor Size'].mean()\n",
    "STDEV = Mort_prediction['Tumor Size'].std()\n",
    "Mort_prediction['Z-Score'] = (Mort_prediction['Tumor Size'] - mean) / STDEV\n",
    "\n",
    "# Defining a threshold\n",
    "threshold = 3\n",
    "\n",
    "# Identifying the outliers\n",
    "Mort_prediction['Tumor_Outliers'] = Mort_prediction['Z-Score'].apply(lambda x: 'Yes' if abs(x) > threshold else 'No')\n",
    "\n",
    "# Capping the outliers\n",
    "upper_limit = mean + 2 * STDEV\n",
    "lower_limit = mean - 1 * STDEV\n",
    "\n",
    "Mort_prediction['Tumor Size'] = np.where(Mort_prediction['Tumor Size'] > upper_limit, upper_limit,\n",
    "                            np.where(Mort_prediction['Tumor Size'] < lower_limit, lower_limit, Mort_prediction['Tumor Size']))"
   ]
  },
  {
   "cell_type": "code",
   "execution_count": 235,
   "id": "091099d0-7e89-4c9d-86eb-e190413d9b1e",
   "metadata": {},
   "outputs": [
    {
     "data": {
      "image/png": "[encoded data removed]",
      "text/plain": [
       "<Figure size 800x550 with 1 Axes>"
      ]
     },
     "metadata": {},
     "output_type": "display_data"
    }
   ],
   "source": [
    "# Creating a boxplot to visualize outliers in the \"Tumour Size\" Feature\n",
    "\n",
    "sns.boxplot(data=Mort_prediction, x='Tumor Size')\n",
    "plt.title(\"Boxplot After handling Outliers\")\n",
    "plt.show()"
   ]
  },
  {
   "cell_type": "code",
   "execution_count": 236,
   "id": "be3b2cc7-1037-433e-96a1-82554ef8cf67",
   "metadata": {},
   "outputs": [
    {
     "data": {
      "text/plain": [
       "A Stage\n",
       "Regional    3932\n",
       "Distant       92\n",
       "Name: count, dtype: int64"
      ]
     },
     "execution_count": 236,
     "metadata": {},
     "output_type": "execute_result"
    }
   ],
   "source": [
    "Mort_prediction['A Stage'].value_counts()"
   ]
  },
  {
   "cell_type": "code",
   "execution_count": 237,
   "id": "b3290c15-1836-4b7b-ba66-7078930e9436",
   "metadata": {},
   "outputs": [
    {
     "data": {
      "text/plain": [
       "Estrogen Status\n",
       "Positive    3755\n",
       "Negative     269\n",
       "Name: count, dtype: int64"
      ]
     },
     "execution_count": 237,
     "metadata": {},
     "output_type": "execute_result"
    }
   ],
   "source": [
    "Mort_prediction['Estrogen Status'].value_counts()"
   ]
  },
  {
   "cell_type": "code",
   "execution_count": 238,
   "id": "56608459-a509-4284-ab35-124bdbd0f0bf",
   "metadata": {},
   "outputs": [
    {
     "data": {
      "text/plain": [
       "Progesterone Status\n",
       "Positive    3326\n",
       "Negative     698\n",
       "Name: count, dtype: int64"
      ]
     },
     "execution_count": 238,
     "metadata": {},
     "output_type": "execute_result"
    }
   ],
   "source": [
    "Mort_prediction['Progesterone Status'].value_counts()"
   ]
  },
  {
   "cell_type": "code",
   "execution_count": 239,
   "id": "99b0b5e6-f740-42dc-aca7-b9d37c14a8f4",
   "metadata": {},
   "outputs": [
    {
     "data": {
      "text/plain": [
       "Mortality_Status\n",
       "Alive    3408\n",
       "Dead      616\n",
       "Name: count, dtype: int64"
      ]
     },
     "execution_count": 239,
     "metadata": {},
     "output_type": "execute_result"
    }
   ],
   "source": [
    "Mort_prediction['Mortality_Status'].value_counts()"
   ]
  },
  {
   "cell_type": "markdown",
   "id": "a7b729c3-5dd0-447f-94fe-d5ff7eef921a",
   "metadata": {},
   "source": [
    "### Task (4) - Model Building"
   ]
  },
  {
   "cell_type": "markdown",
   "id": "1a263dbe-2659-4a1f-b188-b09d170d9bca",
   "metadata": {
    "jp-MarkdownHeadingCollapsed": true
   },
   "source": [
    "#### Using the Train-Test split approach to build models -- Naive Bayes"
   ]
  },
  {
   "cell_type": "code",
   "execution_count": 340,
   "id": "caae7a46-2074-4dcc-b7dc-708439f4bf2a",
   "metadata": {},
   "outputs": [],
   "source": [
    "# Converting Categorical Data into Numerical data to fix errors in the model\n",
    "from sklearn.preprocessing import LabelEncoder\n",
    "\n",
    "X = Mort_prediction.drop('Mortality_Status', axis=1)\n",
    "y = Mort_prediction['Mortality_Status']\n",
    "# Identify categorical columns\n",
    "categorical_columns = X.select_dtypes(include=['object']).columns\n",
    "\n",
    "# Apply Label Encoding\n",
    "encoder = LabelEncoder()\n",
    "for column in categorical_columns:\n",
    "    X[column] = encoder.fit_transform(X[column])\n",
    "\n",
    "# Proceed with splitting and training the model\n",
    "X_train, X_test, y_train, y_test = train_test_split(X, y, test_size=0.2, random_state=42)\n",
    "\n",
    "# Initialize and train the Naive Bayes model\n",
    "nb_model = GaussianNB()\n",
    "nb_model.fit(X_train, y_train)\n",
    "\n",
    "# Make predictions\n",
    "y_pred = nb_model.predict(X_test)"
   ]
  },
  {
   "cell_type": "code",
   "execution_count": 342,
   "id": "e5bb12d8-0f9f-48a2-b8ab-c117a0d1caf8",
   "metadata": {
    "scrolled": true
   },
   "outputs": [],
   "source": [
    "# Building a Classification model using Naive bayes\n",
    "\n",
    "# Importing library\n",
    "from sklearn.model_selection import train_test_split\n",
    "from sklearn.naive_bayes import GaussianNB\n",
    "from sklearn.metrics import accuracy_score, classification_report, confusion_matrix\n",
    "\n",
    "# Split features and target\n",
    "\n",
    "# Splitting the data into a 80:20 split where 80% is used for training and 20% for testing\n",
    "X_train, X_test, y_train, y_test = train_test_split(X, y, test_size=0.2, random_state=42)\n",
    "\n",
    "# Initializing the Naive Bayes model\n",
    "Naive_Bayes_model = GaussianNB()\n",
    "\n",
    "# Training the model on the training set\n",
    "Naive_Bayes_model.fit(X_train, y_train)\n",
    "\n",
    "# Predict on test data\n",
    "y_pred = Naive_Bayes_model.predict(X_test)"
   ]
  },
  {
   "cell_type": "code",
   "execution_count": 344,
   "id": "af541521-d7ca-4a9d-aad0-063a120c2fcf",
   "metadata": {},
   "outputs": [
    {
     "name": "stdout",
     "output_type": "stream",
     "text": [
      "Accuracy: 81.74%\n"
     ]
    },
    {
     "data": {
      "image/png": "[encoded data removed]",
      "text/plain": [
       "<Figure size 800x600 with 2 Axes>"
      ]
     },
     "metadata": {},
     "output_type": "display_data"
    },
    {
     "name": "stdout",
     "output_type": "stream",
     "text": [
      "Classification Report:\n",
      "              precision    recall  f1-score   support\n",
      "\n",
      "       Alive       0.89      0.89      0.89       685\n",
      "        Dead       0.39      0.40      0.40       120\n",
      "\n",
      "    accuracy                           0.82       805\n",
      "   macro avg       0.64      0.65      0.64       805\n",
      "weighted avg       0.82      0.82      0.82       805\n",
      "\n"
     ]
    }
   ],
   "source": [
    "# Evaluating the model\n",
    "\n",
    "# Evaluate the model's accuracy\n",
    "accuracy = accuracy_score(y_test, y_pred)\n",
    "print(f\"Accuracy: {accuracy * 100:.2f}%\")\n",
    "\n",
    "# Generate the confusion matrix\n",
    "cm = confusion_matrix(y_test, y_pred)\n",
    "\n",
    "# Plot confusion matrix using Seaborn heatmap\n",
    "plt.figure(figsize=(8, 6))\n",
    "sns.heatmap(cm, annot=True, fmt='d', cmap='Blues', xticklabels=np.unique(y), yticklabels=np.unique(y))\n",
    "plt.title('Confusion Matrix for Naive Bayes')\n",
    "plt.xlabel('Predicted Value')\n",
    "plt.ylabel('Actual Value')\n",
    "plt.show()\n",
    "\n",
    "# Classification Report\n",
    "print(\"Classification Report:\")\n",
    "print(classification_report(y_test, y_pred))"
   ]
  },
  {
   "cell_type": "code",
   "execution_count": 346,
   "id": "4f6952ca-a917-4543-8335-839091a33471",
   "metadata": {},
   "outputs": [
    {
     "name": "stdout",
     "output_type": "stream",
     "text": [
      "Class Prior Probabilities: [0.84591488 0.15408512]\n",
      "Feature Means (per class): [[ 5.36088873e+01  1.77377892e+00  1.37825927e+00  4.96511201e-01\n",
      "   7.38156445e-01  3.72383401e-01  1.20492104e+00  7.05471906e-01\n",
      "   2.10760191e+00  9.83474109e-01  2.84991210e+01  9.50789570e-01\n",
      "   8.53103195e-01  1.38672899e+01  1.19019464e+01 -6.01155577e-02\n",
      "   1.50569225e-02]\n",
      " [ 5.52620968e+01  1.73185484e+00  1.46169355e+00  5.12096774e-01\n",
      "   1.06048387e+00  8.42741935e-01  2.07459677e+00  6.71370968e-01\n",
      "   2.38104839e+00  9.41532258e-01  3.51026302e+01  8.28629032e-01\n",
      "   6.69354839e-01  1.45000000e+01  1.51310484e+01  2.85928682e-01\n",
      "   2.62096774e-02]]\n",
      "Class Labels: ['Alive' 'Dead']\n"
     ]
    }
   ],
   "source": [
    "# Finding out the learnable parameters of this model\n",
    "\n",
    "print(\"Class Prior Probabilities:\", Naive_Bayes_model.class_prior_)\n",
    "print(\"Feature Means (per class):\", Naive_Bayes_model.theta_)\n",
    "print(\"Class Labels:\", Naive_Bayes_model.classes_)"
   ]
  },
  {
   "cell_type": "code",
   "execution_count": 352,
   "id": "25364a28-3144-4cea-89b5-27765d6f3233",
   "metadata": {},
   "outputs": [
    {
     "name": "stdout",
     "output_type": "stream",
     "text": [
      "Best Parameters: {'var_smoothing': 0.01}\n",
      "Accuracy of tuned model: 81.74%\n"
     ]
    },
    {
     "data": {
      "image/png": "[encoded data removed]",
      "text/plain": [
       "<Figure size 800x600 with 2 Axes>"
      ]
     },
     "metadata": {},
     "output_type": "display_data"
    }
   ],
   "source": [
    "# Tuning and Re-Training the model using hyperparameters -- GridSearchCV\n",
    "from sklearn.model_selection import GridSearchCV\n",
    "\n",
    "# Defining the model\n",
    "model = GaussianNB()\n",
    "\n",
    "# Defining the hyperparameter grid\n",
    "param_grid = {\n",
    "    'var_smoothing': [1e-12, 1e-10, 1e-8, 1e-6, 1e-4, 1e-2]\n",
    "}\n",
    "\n",
    "# Perform Grid Search\n",
    "grid_search = GridSearchCV(estimator=model, param_grid=param_grid, scoring='accuracy', cv=5)\n",
    "grid_search.fit(X_train, y_train)\n",
    "\n",
    "# Best parameters and score\n",
    "print(\"Best Parameters:\", grid_search.best_params_)\n",
    "\n",
    "# Evaluate the accuracy of the tuned model\n",
    "accuracy = accuracy_score(y_test, y_pred)\n",
    "print(f\"Accuracy of tuned model: {accuracy * 100:.2f}%\")\n",
    "\n",
    "# Generate confusion matrix\n",
    "cm = confusion_matrix(y_test, y_pred)\n",
    "\n",
    "# Plot confusion matrix using Seaborn heatmap\n",
    "plt.figure(figsize=(8, 6))\n",
    "sns.heatmap(cm, annot=True, fmt='d', cmap='Blues', xticklabels=np.unique(y), yticklabels=np.unique(y))\n",
    "plt.title('Confusion Matrix for Tuned Naive Bayes')\n",
    "plt.ylabel('True Value')\n",
    "plt.xlabel('Predicted Value')\n",
    "plt.show()"
   ]
  },
  {
   "cell_type": "markdown",
   "id": "77fd81ba-ac91-463c-8c97-9d903d8d3c6d",
   "metadata": {},
   "source": [
    "#### Using the Train Test split method to build models -- Logistic Regression"
   ]
  },
  {
   "cell_type": "code",
   "execution_count": 354,
   "id": "4581922b-4f40-45ff-bacc-b902b7d05084",
   "metadata": {},
   "outputs": [],
   "source": [
    "# Building a classification model using Logistic Regression\n",
    "\n",
    "# Importing libraries\n",
    "from sklearn.model_selection import train_test_split\n",
    "from sklearn.linear_model import LogisticRegression\n",
    "from sklearn.metrics import accuracy_score, confusion_matrix\n",
    "\n",
    "# Converting Categorical Data into Numerical data to fix errors in the model\n",
    "from sklearn.preprocessing import LabelEncoder\n",
    "\n",
    "X = Mort_prediction.drop('Mortality_Status', axis=1)\n",
    "y = Mort_prediction['Mortality_Status']\n",
    "\n",
    "# Convert categorical features to numerical using OneHotEncoding\n",
    "X = pd.get_dummies(X, drop_first=True)\n",
    "\n",
    "# Split the data into training and testing sets\n",
    "X_train, X_test, y_train, y_test = train_test_split(X, y, test_size=0.2, random_state=42)\n",
    "\n",
    "# Initialize the Logistic Regression model\n",
    "log_reg_model = LogisticRegression(max_iter=200)\n",
    "\n",
    "# Train the model\n",
    "log_reg_model.fit(X_train, y_train)\n",
    "\n",
    "# Predict on the test data\n",
    "y_pred = log_reg_model.predict(X_test)"
   ]
  },
  {
   "cell_type": "code",
   "execution_count": 356,
   "id": "0509e406-876b-42f0-89d0-97fede67cd91",
   "metadata": {},
   "outputs": [
    {
     "name": "stdout",
     "output_type": "stream",
     "text": [
      "Accuracy: 87.08%\n"
     ]
    },
    {
     "data": {
      "image/png": "[encoded data removed]",
      "text/plain": [
       "<Figure size 800x600 with 2 Axes>"
      ]
     },
     "metadata": {},
     "output_type": "display_data"
    }
   ],
   "source": [
    "# Evaluate the model's accuracy\n",
    "accuracy = accuracy_score(y_test, y_pred)\n",
    "print(f\"Accuracy: {accuracy * 100:.2f}%\")\n",
    "\n",
    "# Generate the confusion matrix\n",
    "cm = confusion_matrix(y_test, y_pred)\n",
    "\n",
    "# Plot confusion matrix using Seaborn heatmap\n",
    "plt.figure(figsize=(8, 6))\n",
    "sns.heatmap(cm, annot=True, fmt='d', cmap='Blues', xticklabels=np.unique(y), yticklabels=np.unique(y))\n",
    "plt.title('Confusion Matrix for Logistic Regression')\n",
    "plt.xlabel('Predicted Value')\n",
    "plt.ylabel('Actual Value')\n",
    "plt.show()"
   ]
  },
  {
   "cell_type": "code",
   "execution_count": 358,
   "id": "9c695a83-e39a-4f81-997f-c9d405cb990e",
   "metadata": {},
   "outputs": [
    {
     "name": "stdout",
     "output_type": "stream",
     "text": [
      "Learnable parameters of the Logistic Regression model:\n",
      "Coefficients (weights):\n",
      "[[ 0.02334608  0.04345367 -0.07063359 -0.00368413 -0.04079692  0.11929101\n",
      "  -1.05359542 -0.45486269 -0.29208304  0.55757928 -0.08112282 -0.17564761\n",
      "   0.13164158  0.46570237  0.713028    0.84228915  1.03457536  0.38295291\n",
      "  -0.02613742  0.05827352  1.03457536  0.49721252  0.59859396 -0.45995122\n",
      "  -0.08693631 -0.64681074 -0.64031626 -0.48245113 -1.03258951 -0.69841278\n",
      "  -0.79957681 -0.8003633   0.28110228  0.43172716  0.3888977  -0.50794054\n",
      "   0.53583324 -0.04948405  0.21842292 -0.07856528  1.06945351  0.23849639\n",
      "   0.55224119  0.38586118 -0.44647262  0.61292556  0.15648842  0.63158834\n",
      "   0.29799515  0.48194863  0.18520225 -0.12489378  0.          0.19199103\n",
      "   0.06391941 -0.09883615  0.09081722 -0.07929126  0.14640106  0.12960166\n",
      "   0.1973165   0.33964564  0.20190851  0.5103802   0.         -0.49884771]]\n",
      "\n",
      "Intercept (bias):\n",
      "[-1.30814333]\n"
     ]
    }
   ],
   "source": [
    "# Displaying its learnable parameters\n",
    "\n",
    "print(\"Learnable parameters of the Logistic Regression model:\")\n",
    "print(\"Coefficients (weights):\")\n",
    "print(log_reg_model.coef_)  # Coefficients for each feature (Weights)\n",
    "print(\"\\nIntercept (bias):\")\n",
    "print(log_reg_model.intercept_)  # Intercept (Bias)"
   ]
  },
  {
   "cell_type": "code",
   "execution_count": 360,
   "id": "d2cf5569-efe6-4b8a-86b7-a31f709d2fc2",
   "metadata": {},
   "outputs": [
    {
     "name": "stdout",
     "output_type": "stream",
     "text": [
      "Fitting 5 folds for each of 60 candidates, totalling 300 fits\n",
      "Best Hyperparameters: {'C': 10, 'max_iter': 100, 'penalty': 'l1', 'solver': 'liblinear'}\n"
     ]
    }
   ],
   "source": [
    "# Using GridSearchCV to find the optimal Hyperparameters to tune the model\n",
    "\n",
    "# Define hyperparameter grid to search over\n",
    "param_grid = {\n",
    "    'C': [0.01, 0.1, 1, 10, 100],       # Regularization strength\n",
    "    'penalty': ['l1', 'l2'],            # Regularization type\n",
    "    'solver': ['liblinear', 'saga'],    # Solvers that support l1 and l2\n",
    "    'max_iter': [100, 200, 500]         # Maximum iterations for convergence\n",
    "}\n",
    "\n",
    "# Initialize GridSearchCV\n",
    "grid_search = GridSearchCV(estimator=log_reg_model, param_grid=param_grid, cv=5, n_jobs=-1, verbose=1)\n",
    "\n",
    "# Perform grid search to find the best parameters\n",
    "grid_search.fit(X_train, y_train)\n",
    "\n",
    "# Display the best parameters found\n",
    "print(\"Best Hyperparameters:\", grid_search.best_params_)\n",
    "\n",
    "# Get the best model from the grid search\n",
    "best_log_reg_model = grid_search.best_estimator_"
   ]
  },
  {
   "cell_type": "code",
   "execution_count": 366,
   "id": "e18b0247-9ac3-4664-a9e6-792a25088a3a",
   "metadata": {},
   "outputs": [
    {
     "name": "stdout",
     "output_type": "stream",
     "text": [
      "Accuracy of tuned model: 86.83%\n"
     ]
    },
    {
     "data": {
      "image/png": "[encoded data removed]",
      "text/plain": [
       "<Figure size 800x600 with 2 Axes>"
      ]
     },
     "metadata": {},
     "output_type": "display_data"
    }
   ],
   "source": [
    "# Using the Hyperparameters found via GridSearchCV to tune and Re-train the model\n",
    "\n",
    "# Train the best model on the full training data\n",
    "best_log_reg_model.fit(X_train, y_train)\n",
    "\n",
    "# Predict on the test data\n",
    "y_pred = best_log_reg_model.predict(X_test)\n",
    "\n",
    "# Evaluate the accuracy of the tuned model\n",
    "accuracy = accuracy_score(y_test, y_pred)\n",
    "print(f\"Accuracy of tuned model: {accuracy * 100:.2f}%\")\n",
    "\n",
    "# Generate confusion matrix\n",
    "cm = confusion_matrix(y_test, y_pred)\n",
    "\n",
    "# Plot confusion matrix using Seaborn heatmap\n",
    "plt.figure(figsize=(8, 6))\n",
    "sns.heatmap(cm, annot=True, fmt='d', cmap='Blues', xticklabels=np.unique(y), yticklabels=np.unique(y))\n",
    "plt.title('Confusion Matrix for Tuned Logistic Regression')\n",
    "plt.xlabel('Predicted Label')\n",
    "plt.ylabel('True value')\n",
    "plt.show()"
   ]
  },
  {
   "cell_type": "markdown",
   "id": "c34a69dd-f103-4ba1-a9ee-a47c78cda487",
   "metadata": {
    "jp-MarkdownHeadingCollapsed": true
   },
   "source": [
    "#### Using PyCaret library to build models -- KNN"
   ]
  },
  {
   "cell_type": "code",
   "execution_count": null,
   "id": "56149352-0d25-49de-ad41-6c96bdea1084",
   "metadata": {},
   "outputs": [],
   "source": []
  }
 ],
 "metadata": {
  "kernelspec": {
   "display_name": "Python 3 (ipykernel)",
   "language": "python",
   "name": "python3"
  },
  "language_info": {
   "codemirror_mode": {
    "name": "ipython",
    "version": 3
   },
   "file_extension": ".py",
   "mimetype": "text/x-python",
   "name": "python",
   "nbconvert_exporter": "python",
   "pygments_lexer": "ipython3",
   "version": "3.11.7"
  }
 },
 "nbformat": 4,
 "nbformat_minor": 5
}
